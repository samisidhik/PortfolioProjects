{
 "cells": [
  {
   "cell_type": "markdown",
   "id": "46d7ff98",
   "metadata": {
    "papermill": {
     "duration": 0.029333,
     "end_time": "2022-04-25T01:06:21.092013",
     "exception": false,
     "start_time": "2022-04-25T01:06:21.062680",
     "status": "completed"
    },
    "tags": []
   },
   "source": [
    "# Project Details"
   ]
  },
  {
   "cell_type": "markdown",
   "id": "cedbb343",
   "metadata": {
    "papermill": {
     "duration": 0.027883,
     "end_time": "2022-04-25T01:06:21.148296",
     "exception": false,
     "start_time": "2022-04-25T01:06:21.120413",
     "status": "completed"
    },
    "tags": []
   },
   "source": [
    "**Scenario**\n",
    "You are a junior data analyst working in the marketing analyst team at Cyclistic, a bike-share company in Chicago. The director of marketing believes the company’s future success depends on maximizing the number of annual memberships. Therefore, your team wants to understand how casual riders and annual members use Cyclistic bikes differently. From these insights, your team will design a new marketing strategy to convert casual riders into annual members. But first, Cyclistic executives must approve your recommendations, so they must be backed up with compelling data insights and professional data visualizations.\n",
    "\n",
    "**Characters and teams**\n",
    "● Cyclistic: A bike-share program that features more than 5,800 bicycles and 600 docking stations. Cyclistic sets itself apart by also offering reclining bikes, hand tricycles, and cargo bikes, making bike-share more inclusive to people with disabilities and riders who can’t use a standard two-wheeled bike. The majority of riders opt for traditional bikes; about 8% of riders use the assistive options. Cyclistic users are more likely to ride for leisure, but about 30% use them to commute to work each day.\n",
    "● Lily Moreno: The director of marketing and your manager. Moreno is responsible for the development of campaigns and initiatives to promote the bike-share program. These may include email, social media, and other channels.\n",
    "● Cyclistic marketing analytics team: A team of data analysts who are responsible for collecting, analyzing, and reporting data that helps guide Cyclistic marketing strategy. You joined this team six months ago and have been busy learning about Cyclistic’s mission and business goals — as well as how you, as a junior data analyst, can help Cyclistic achieve them.\n",
    "● Cyclistic executive team: The notoriously detail-oriented executive team will decide whether to approve the recommended marketing program.\n",
    "\n",
    "**About the company**\n",
    "In 2016, Cyclistic launched a successful bike-share offering. Since then, the program has grown to a fleet of 5,824 bicycles that are geotracked and locked into a network of 692 stations across Chicago. The bikes can be unlocked from one station and returned to any other station in the system anytime.\n",
    "Until now, Cyclistic’s marketing strategy relied on building general awareness and appealing to broad consumer segments. One approach that helped make these things possible was the flexibility of its pricing plans: single-ride passes, full-day passes, and annual memberships. Customers who purchase single-ride or full-day passes are referred to as casual riders. Customers who purchase annual memberships are Cyclistic members.\n",
    "Cyclistic’s finance analysts have concluded that annual members are much more profitable than casual riders. Although the pricing flexibility helps Cyclistic attract more customers, Moreno believes that maximizing the number of annual members will be key to future growth. Rather than creating a marketing campaign that targets all-new customers, Moreno believes there is a very good chance to convert casual riders into members. She notes that casual riders are already aware of the Cyclistic program and have chosen Cyclistic for their mobility needs.\n",
    "Moreno has set a clear goal: Design marketing strategies aimed at converting casual riders into annual members. In order to do that, however, the marketing analyst team needs to better understand how annual members and casual riders differ, why casual riders would buy a membership, and how digital media could affect their marketing tactics. Moreno and her team are interested in analyzing the Cyclistic historical bike trip data to identify trends.\n",
    "\n",
    "**Ask\n",
    "Three questions will guide the future marketing program:**\n",
    "1. How do annual members and casual riders use Cyclistic bikes differently?\n",
    "2. Why would casual riders buy Cyclistic annual memberships?\n",
    "3. How can Cyclistic use digital media to influence casual riders to become members?\n",
    "\n",
    "**Moreno has assigned you the first question to answer: How do annual members and casual riders use Cyclistic bikes differently?\n",
    "You will produce a report with the following deliverables:**\n",
    "\n",
    "1. A clear statement of the business task\n",
    "2. A description of all data sources used\n",
    "3. Documentation of any cleaning or manipulation of data\n",
    "4. A summary of your analysis\n",
    "5. Supporting visualizations and key findings\n",
    "6. Your top three recommendations based on your analysis"
   ]
  },
  {
   "cell_type": "markdown",
   "id": "8f259baf",
   "metadata": {
    "papermill": {
     "duration": 0.027848,
     "end_time": "2022-04-25T01:06:21.204311",
     "exception": false,
     "start_time": "2022-04-25T01:06:21.176463",
     "status": "completed"
    },
    "tags": []
   },
   "source": [
    "# Methodology"
   ]
  },
  {
   "cell_type": "markdown",
   "id": "81248618",
   "metadata": {
    "papermill": {
     "duration": 0.027717,
     "end_time": "2022-04-25T01:06:21.260153",
     "exception": false,
     "start_time": "2022-04-25T01:06:21.232436",
     "status": "completed"
    },
    "tags": []
   },
   "source": [
    "**1. Ask:**\n",
    "\n",
    "Business Task - **How do annual members and casual riders use Cyclistic bikes differently?**"
   ]
  },
  {
   "cell_type": "markdown",
   "id": "7b6db659",
   "metadata": {
    "papermill": {
     "duration": 0.027572,
     "end_time": "2022-04-25T01:06:21.315919",
     "exception": false,
     "start_time": "2022-04-25T01:06:21.288347",
     "status": "completed"
    },
    "tags": []
   },
   "source": [
    "**2. Prepare:**\n",
    "\n",
    "- Download previous 12 months of data\n",
    "- The license has been made available by Motivate International Inc."
   ]
  },
  {
   "cell_type": "markdown",
   "id": "2ae6b50b",
   "metadata": {
    "papermill": {
     "duration": 0.027601,
     "end_time": "2022-04-25T01:06:21.371319",
     "exception": false,
     "start_time": "2022-04-25T01:06:21.343718",
     "status": "completed"
    },
    "tags": []
   },
   "source": [
    "# Import libraries"
   ]
  },
  {
   "cell_type": "code",
   "execution_count": 1,
   "id": "ff952ac0",
   "metadata": {
    "execution": {
     "iopub.execute_input": "2022-04-25T01:06:21.434772Z",
     "iopub.status.busy": "2022-04-25T01:06:21.433567Z",
     "iopub.status.idle": "2022-04-25T01:06:22.347760Z",
     "shell.execute_reply": "2022-04-25T01:06:22.346984Z",
     "shell.execute_reply.started": "2022-04-25T00:28:15.574688Z"
    },
    "papermill": {
     "duration": 0.948823,
     "end_time": "2022-04-25T01:06:22.347973",
     "exception": false,
     "start_time": "2022-04-25T01:06:21.399150",
     "status": "completed"
    },
    "tags": []
   },
   "outputs": [],
   "source": [
    "import pandas as pd\n",
    "import numpy as np\n",
    "import matplotlib as mpl\n",
    "import matplotlib.pyplot as plt\n",
    "import matplotlib.ticker as ticker\n",
    "import seaborn as sns"
   ]
  },
  {
   "cell_type": "markdown",
   "id": "e63aee67",
   "metadata": {
    "papermill": {
     "duration": 0.027467,
     "end_time": "2022-04-25T01:06:22.403394",
     "exception": false,
     "start_time": "2022-04-25T01:06:22.375927",
     "status": "completed"
    },
    "tags": []
   },
   "source": [
    "# Import dataset\n",
    "\n",
    "The dataset was provided by google for the purpose of this project. 12 months of trip data waas downloaded as .csv files."
   ]
  },
  {
   "cell_type": "code",
   "execution_count": 2,
   "id": "75b04c06",
   "metadata": {
    "execution": {
     "iopub.execute_input": "2022-04-25T01:06:22.463406Z",
     "iopub.status.busy": "2022-04-25T01:06:22.462437Z",
     "iopub.status.idle": "2022-04-25T01:06:52.964308Z",
     "shell.execute_reply": "2022-04-25T01:06:52.963577Z",
     "shell.execute_reply.started": "2022-04-25T00:28:15.582043Z"
    },
    "papermill": {
     "duration": 30.533199,
     "end_time": "2022-04-25T01:06:52.964465",
     "exception": false,
     "start_time": "2022-04-25T01:06:22.431266",
     "status": "completed"
    },
    "tags": []
   },
   "outputs": [],
   "source": [
    "Jan_2021 = pd.read_csv('../input/cyclistic-dataset-2021/202101-divvy-tripdata.csv')\n",
    "Feb_2021 = pd.read_csv('../input/cyclistic-dataset-2021/202102-divvy-tripdata.csv')\n",
    "March_2021 = pd.read_csv('../input/cyclistic-dataset-2021/202103-divvy-tripdata.csv')\n",
    "April_2021 = pd.read_csv('../input/cyclistic-dataset-2021/202104-divvy-tripdata.csv')\n",
    "May_2021 = pd.read_csv('../input/cyclistic-dataset-2021/202105-divvy-tripdata.csv')\n",
    "June_2021 = pd.read_csv('../input/cyclistic-dataset-2021/202106-divvy-tripdata.csv')\n",
    "July_2021 = pd.read_csv('../input/cyclistic-dataset-2021/202107-divvy-tripdata.csv')\n",
    "Aug_2021 = pd.read_csv('../input/cyclistic-dataset-2021/202108-divvy-tripdata.csv')\n",
    "Sept_2021 = pd.read_csv('../input/cyclistic-dataset-2021/202109-divvy-tripdata.csv')\n",
    "Oct_2021 = pd.read_csv('../input/cyclistic-dataset-2021/202110-divvy-tripdata.csv')\n",
    "Nov_2021 = pd.read_csv('../input/cyclistic-dataset-2021/202111-divvy-tripdata.csv')\n",
    "Dec_2021 = pd.read_csv('../input/cyclistic-dataset-2021/202112-divvy-tripdata.csv')\n"
   ]
  },
  {
   "cell_type": "markdown",
   "id": "6ceb8f7f",
   "metadata": {
    "papermill": {
     "duration": 0.027616,
     "end_time": "2022-04-25T01:06:53.021029",
     "exception": false,
     "start_time": "2022-04-25T01:06:52.993413",
     "status": "completed"
    },
    "tags": []
   },
   "source": [
    "**Combine into one table**"
   ]
  },
  {
   "cell_type": "code",
   "execution_count": 3,
   "id": "a57cb3de",
   "metadata": {
    "execution": {
     "iopub.execute_input": "2022-04-25T01:06:53.084056Z",
     "iopub.status.busy": "2022-04-25T01:06:53.083357Z",
     "iopub.status.idle": "2022-04-25T01:06:54.966727Z",
     "shell.execute_reply": "2022-04-25T01:06:54.965681Z",
     "shell.execute_reply.started": "2022-04-25T00:28:38.832384Z"
    },
    "papermill": {
     "duration": 1.91764,
     "end_time": "2022-04-25T01:06:54.966917",
     "exception": false,
     "start_time": "2022-04-25T01:06:53.049277",
     "status": "completed"
    },
    "tags": []
   },
   "outputs": [],
   "source": [
    "all_trips = pd.concat([Jan_2021, Feb_2021, March_2021, April_2021, May_2021, June_2021, July_2021, Aug_2021, Sept_2021, Oct_2021, Nov_2021, Dec_2021])"
   ]
  },
  {
   "cell_type": "markdown",
   "id": "064eab8f",
   "metadata": {
    "papermill": {
     "duration": 0.027596,
     "end_time": "2022-04-25T01:06:55.023015",
     "exception": false,
     "start_time": "2022-04-25T01:06:54.995419",
     "status": "completed"
    },
    "tags": []
   },
   "source": [
    "**View new combined table**"
   ]
  },
  {
   "cell_type": "code",
   "execution_count": 4,
   "id": "16354cf3",
   "metadata": {
    "execution": {
     "iopub.execute_input": "2022-04-25T01:06:55.102434Z",
     "iopub.status.busy": "2022-04-25T01:06:55.101413Z",
     "iopub.status.idle": "2022-04-25T01:06:55.104987Z",
     "shell.execute_reply": "2022-04-25T01:06:55.105483Z",
     "shell.execute_reply.started": "2022-04-25T00:28:41.114724Z"
    },
    "papermill": {
     "duration": 0.054361,
     "end_time": "2022-04-25T01:06:55.105651",
     "exception": false,
     "start_time": "2022-04-25T01:06:55.051290",
     "status": "completed"
    },
    "tags": []
   },
   "outputs": [
    {
     "name": "stdout",
     "output_type": "stream",
     "text": [
      "<class 'pandas.core.frame.DataFrame'>\n",
      "Int64Index: 5595063 entries, 0 to 247539\n",
      "Data columns (total 13 columns):\n",
      " #   Column              Dtype  \n",
      "---  ------              -----  \n",
      " 0   ride_id             object \n",
      " 1   rideable_type       object \n",
      " 2   started_at          object \n",
      " 3   ended_at            object \n",
      " 4   start_station_name  object \n",
      " 5   start_station_id    object \n",
      " 6   end_station_name    object \n",
      " 7   end_station_id      object \n",
      " 8   start_lat           float64\n",
      " 9   start_lng           float64\n",
      " 10  end_lat             float64\n",
      " 11  end_lng             float64\n",
      " 12  member_casual       object \n",
      "dtypes: float64(4), object(9)\n",
      "memory usage: 597.6+ MB\n"
     ]
    }
   ],
   "source": [
    "all_trips.info()\n"
   ]
  },
  {
   "cell_type": "code",
   "execution_count": 5,
   "id": "6d29769d",
   "metadata": {
    "execution": {
     "iopub.execute_input": "2022-04-25T01:06:55.167030Z",
     "iopub.status.busy": "2022-04-25T01:06:55.166384Z",
     "iopub.status.idle": "2022-04-25T01:06:55.191735Z",
     "shell.execute_reply": "2022-04-25T01:06:55.191084Z",
     "shell.execute_reply.started": "2022-04-25T00:28:41.131315Z"
    },
    "papermill": {
     "duration": 0.057291,
     "end_time": "2022-04-25T01:06:55.191909",
     "exception": false,
     "start_time": "2022-04-25T01:06:55.134618",
     "status": "completed"
    },
    "tags": []
   },
   "outputs": [
    {
     "data": {
      "text/html": [
       "<div>\n",
       "<style scoped>\n",
       "    .dataframe tbody tr th:only-of-type {\n",
       "        vertical-align: middle;\n",
       "    }\n",
       "\n",
       "    .dataframe tbody tr th {\n",
       "        vertical-align: top;\n",
       "    }\n",
       "\n",
       "    .dataframe thead th {\n",
       "        text-align: right;\n",
       "    }\n",
       "</style>\n",
       "<table border=\"1\" class=\"dataframe\">\n",
       "  <thead>\n",
       "    <tr style=\"text-align: right;\">\n",
       "      <th></th>\n",
       "      <th>ride_id</th>\n",
       "      <th>rideable_type</th>\n",
       "      <th>started_at</th>\n",
       "      <th>ended_at</th>\n",
       "      <th>start_station_name</th>\n",
       "      <th>start_station_id</th>\n",
       "      <th>end_station_name</th>\n",
       "      <th>end_station_id</th>\n",
       "      <th>start_lat</th>\n",
       "      <th>start_lng</th>\n",
       "      <th>end_lat</th>\n",
       "      <th>end_lng</th>\n",
       "      <th>member_casual</th>\n",
       "    </tr>\n",
       "  </thead>\n",
       "  <tbody>\n",
       "    <tr>\n",
       "      <th>0</th>\n",
       "      <td>E19E6F1B8D4C42ED</td>\n",
       "      <td>electric_bike</td>\n",
       "      <td>2021-01-23 16:14:19</td>\n",
       "      <td>2021-01-23 16:24:44</td>\n",
       "      <td>California Ave &amp; Cortez St</td>\n",
       "      <td>17660</td>\n",
       "      <td>NaN</td>\n",
       "      <td>NaN</td>\n",
       "      <td>41.900341</td>\n",
       "      <td>-87.696743</td>\n",
       "      <td>41.89</td>\n",
       "      <td>-87.72</td>\n",
       "      <td>member</td>\n",
       "    </tr>\n",
       "    <tr>\n",
       "      <th>1</th>\n",
       "      <td>DC88F20C2C55F27F</td>\n",
       "      <td>electric_bike</td>\n",
       "      <td>2021-01-27 18:43:08</td>\n",
       "      <td>2021-01-27 18:47:12</td>\n",
       "      <td>California Ave &amp; Cortez St</td>\n",
       "      <td>17660</td>\n",
       "      <td>NaN</td>\n",
       "      <td>NaN</td>\n",
       "      <td>41.900333</td>\n",
       "      <td>-87.696707</td>\n",
       "      <td>41.90</td>\n",
       "      <td>-87.69</td>\n",
       "      <td>member</td>\n",
       "    </tr>\n",
       "    <tr>\n",
       "      <th>2</th>\n",
       "      <td>EC45C94683FE3F27</td>\n",
       "      <td>electric_bike</td>\n",
       "      <td>2021-01-21 22:35:54</td>\n",
       "      <td>2021-01-21 22:37:14</td>\n",
       "      <td>California Ave &amp; Cortez St</td>\n",
       "      <td>17660</td>\n",
       "      <td>NaN</td>\n",
       "      <td>NaN</td>\n",
       "      <td>41.900313</td>\n",
       "      <td>-87.696643</td>\n",
       "      <td>41.90</td>\n",
       "      <td>-87.70</td>\n",
       "      <td>member</td>\n",
       "    </tr>\n",
       "    <tr>\n",
       "      <th>3</th>\n",
       "      <td>4FA453A75AE377DB</td>\n",
       "      <td>electric_bike</td>\n",
       "      <td>2021-01-07 13:31:13</td>\n",
       "      <td>2021-01-07 13:42:55</td>\n",
       "      <td>California Ave &amp; Cortez St</td>\n",
       "      <td>17660</td>\n",
       "      <td>NaN</td>\n",
       "      <td>NaN</td>\n",
       "      <td>41.900399</td>\n",
       "      <td>-87.696662</td>\n",
       "      <td>41.92</td>\n",
       "      <td>-87.69</td>\n",
       "      <td>member</td>\n",
       "    </tr>\n",
       "    <tr>\n",
       "      <th>4</th>\n",
       "      <td>BE5E8EB4E7263A0B</td>\n",
       "      <td>electric_bike</td>\n",
       "      <td>2021-01-23 02:24:02</td>\n",
       "      <td>2021-01-23 02:24:45</td>\n",
       "      <td>California Ave &amp; Cortez St</td>\n",
       "      <td>17660</td>\n",
       "      <td>NaN</td>\n",
       "      <td>NaN</td>\n",
       "      <td>41.900326</td>\n",
       "      <td>-87.696697</td>\n",
       "      <td>41.90</td>\n",
       "      <td>-87.70</td>\n",
       "      <td>casual</td>\n",
       "    </tr>\n",
       "  </tbody>\n",
       "</table>\n",
       "</div>"
      ],
      "text/plain": [
       "            ride_id  rideable_type           started_at             ended_at  \\\n",
       "0  E19E6F1B8D4C42ED  electric_bike  2021-01-23 16:14:19  2021-01-23 16:24:44   \n",
       "1  DC88F20C2C55F27F  electric_bike  2021-01-27 18:43:08  2021-01-27 18:47:12   \n",
       "2  EC45C94683FE3F27  electric_bike  2021-01-21 22:35:54  2021-01-21 22:37:14   \n",
       "3  4FA453A75AE377DB  electric_bike  2021-01-07 13:31:13  2021-01-07 13:42:55   \n",
       "4  BE5E8EB4E7263A0B  electric_bike  2021-01-23 02:24:02  2021-01-23 02:24:45   \n",
       "\n",
       "           start_station_name start_station_id end_station_name  \\\n",
       "0  California Ave & Cortez St            17660              NaN   \n",
       "1  California Ave & Cortez St            17660              NaN   \n",
       "2  California Ave & Cortez St            17660              NaN   \n",
       "3  California Ave & Cortez St            17660              NaN   \n",
       "4  California Ave & Cortez St            17660              NaN   \n",
       "\n",
       "  end_station_id  start_lat  start_lng  end_lat  end_lng member_casual  \n",
       "0            NaN  41.900341 -87.696743    41.89   -87.72        member  \n",
       "1            NaN  41.900333 -87.696707    41.90   -87.69        member  \n",
       "2            NaN  41.900313 -87.696643    41.90   -87.70        member  \n",
       "3            NaN  41.900399 -87.696662    41.92   -87.69        member  \n",
       "4            NaN  41.900326 -87.696697    41.90   -87.70        casual  "
      ]
     },
     "execution_count": 5,
     "metadata": {},
     "output_type": "execute_result"
    }
   ],
   "source": [
    "all_trips.head()"
   ]
  },
  {
   "cell_type": "markdown",
   "id": "c45a95c0",
   "metadata": {
    "papermill": {
     "duration": 0.028646,
     "end_time": "2022-04-25T01:06:55.249589",
     "exception": false,
     "start_time": "2022-04-25T01:06:55.220943",
     "status": "completed"
    },
    "tags": []
   },
   "source": [
    "After analyzing the data, we can conclude the dataframe has the following:\n",
    "\n",
    "* 13 Columns\n",
    "* 5595063 rows\n",
    "* There are missing values in the end_station_name and end_station_id columns\n",
    "* There are wrong data types that need to be converted\n"
   ]
  },
  {
   "cell_type": "markdown",
   "id": "eed21634",
   "metadata": {
    "papermill": {
     "duration": 0.02923,
     "end_time": "2022-04-25T01:06:55.307600",
     "exception": false,
     "start_time": "2022-04-25T01:06:55.278370",
     "status": "completed"
    },
    "tags": []
   },
   "source": [
    "**3. Process:**\n",
    "\n",
    "Clean and transform data, so its ready for Analysis"
   ]
  },
  {
   "cell_type": "markdown",
   "id": "04544003",
   "metadata": {
    "papermill": {
     "duration": 0.028537,
     "end_time": "2022-04-25T01:06:55.365041",
     "exception": false,
     "start_time": "2022-04-25T01:06:55.336504",
     "status": "completed"
    },
    "tags": []
   },
   "source": [
    "**Check for duplicate entries**"
   ]
  },
  {
   "cell_type": "code",
   "execution_count": 6,
   "id": "313397c2",
   "metadata": {
    "execution": {
     "iopub.execute_input": "2022-04-25T01:06:55.551083Z",
     "iopub.status.busy": "2022-04-25T01:06:55.550012Z",
     "iopub.status.idle": "2022-04-25T01:07:16.280379Z",
     "shell.execute_reply": "2022-04-25T01:07:16.279744Z",
     "shell.execute_reply.started": "2022-04-25T00:28:41.160813Z"
    },
    "papermill": {
     "duration": 20.886638,
     "end_time": "2022-04-25T01:07:16.280538",
     "exception": false,
     "start_time": "2022-04-25T01:06:55.393900",
     "status": "completed"
    },
    "tags": []
   },
   "outputs": [
    {
     "data": {
      "text/plain": [
       "0         False\n",
       "1         False\n",
       "2         False\n",
       "3         False\n",
       "4         False\n",
       "          ...  \n",
       "247535    False\n",
       "247536    False\n",
       "247537    False\n",
       "247538    False\n",
       "247539    False\n",
       "Length: 5595063, dtype: bool"
      ]
     },
     "execution_count": 6,
     "metadata": {},
     "output_type": "execute_result"
    }
   ],
   "source": [
    "all_trips.duplicated()"
   ]
  },
  {
   "cell_type": "markdown",
   "id": "83106901",
   "metadata": {
    "papermill": {
     "duration": 0.030154,
     "end_time": "2022-04-25T01:07:16.340459",
     "exception": false,
     "start_time": "2022-04-25T01:07:16.310305",
     "status": "completed"
    },
    "tags": []
   },
   "source": [
    "# Remove irrelevant data\n",
    "Some of the columns have missing values and are not useful for analysis\n",
    "\n"
   ]
  },
  {
   "cell_type": "code",
   "execution_count": 7,
   "id": "1c918ed7",
   "metadata": {
    "execution": {
     "iopub.execute_input": "2022-04-25T01:07:17.881677Z",
     "iopub.status.busy": "2022-04-25T01:07:16.402793Z",
     "iopub.status.idle": "2022-04-25T01:07:18.608868Z",
     "shell.execute_reply": "2022-04-25T01:07:18.608255Z",
     "shell.execute_reply.started": "2022-04-25T00:29:02.725406Z"
    },
    "papermill": {
     "duration": 2.238714,
     "end_time": "2022-04-25T01:07:18.609037",
     "exception": false,
     "start_time": "2022-04-25T01:07:16.370323",
     "status": "completed"
    },
    "tags": []
   },
   "outputs": [],
   "source": [
    "all_trips = all_trips.drop(['start_station_name','start_station_id','end_station_name','end_station_id', 'start_lat', 'start_lng', 'end_lat', 'end_lng'], axis = 1)"
   ]
  },
  {
   "cell_type": "markdown",
   "id": "adc45e92",
   "metadata": {
    "papermill": {
     "duration": 0.029585,
     "end_time": "2022-04-25T01:07:18.668266",
     "exception": false,
     "start_time": "2022-04-25T01:07:18.638681",
     "status": "completed"
    },
    "tags": []
   },
   "source": [
    "# Convert data types\n",
    "\n",
    "started_at and ended_at data type has to be converted to datatime"
   ]
  },
  {
   "cell_type": "code",
   "execution_count": 8,
   "id": "ad42cc71",
   "metadata": {
    "execution": {
     "iopub.execute_input": "2022-04-25T01:07:20.580010Z",
     "iopub.status.busy": "2022-04-25T01:07:20.579272Z",
     "iopub.status.idle": "2022-04-25T01:07:23.327320Z",
     "shell.execute_reply": "2022-04-25T01:07:23.326702Z",
     "shell.execute_reply.started": "2022-04-25T00:29:04.880293Z"
    },
    "papermill": {
     "duration": 4.629658,
     "end_time": "2022-04-25T01:07:23.327462",
     "exception": false,
     "start_time": "2022-04-25T01:07:18.697804",
     "status": "completed"
    },
    "tags": []
   },
   "outputs": [],
   "source": [
    "all_trips['started_at'] = pd.to_datetime(all_trips['started_at'])\n",
    "all_trips['ended_at'] = pd.to_datetime(all_trips['ended_at'])"
   ]
  },
  {
   "cell_type": "markdown",
   "id": "a9718f71",
   "metadata": {
    "papermill": {
     "duration": 0.029114,
     "end_time": "2022-04-25T01:07:23.388011",
     "exception": false,
     "start_time": "2022-04-25T01:07:23.358897",
     "status": "completed"
    },
    "tags": []
   },
   "source": [
    "We can add new columns like ride_length, day_of_week and month to further analyze the date"
   ]
  },
  {
   "cell_type": "code",
   "execution_count": 9,
   "id": "3de6cd85",
   "metadata": {
    "execution": {
     "iopub.execute_input": "2022-04-25T01:07:25.317627Z",
     "iopub.status.busy": "2022-04-25T01:07:23.450417Z",
     "iopub.status.idle": "2022-04-25T01:07:27.838341Z",
     "shell.execute_reply": "2022-04-25T01:07:27.837726Z",
     "shell.execute_reply.started": "2022-04-25T00:29:09.555739Z"
    },
    "papermill": {
     "duration": 4.420926,
     "end_time": "2022-04-25T01:07:27.838498",
     "exception": false,
     "start_time": "2022-04-25T01:07:23.417572",
     "status": "completed"
    },
    "tags": []
   },
   "outputs": [],
   "source": [
    "all_trips['day_of_week'] = all_trips.started_at.dt.day_name()\n",
    "all_trips['month'] = all_trips.started_at.dt.month_name()\n",
    "all_trips['ride_length']= pd.to_timedelta((all_trips.ended_at - all_trips.started_at)).astype('timedelta64[m]')\n"
   ]
  },
  {
   "cell_type": "markdown",
   "id": "55644c46",
   "metadata": {
    "papermill": {
     "duration": 0.029678,
     "end_time": "2022-04-25T01:07:27.897463",
     "exception": false,
     "start_time": "2022-04-25T01:07:27.867785",
     "status": "completed"
    },
    "tags": []
   },
   "source": [
    "Verify newly created columns"
   ]
  },
  {
   "cell_type": "code",
   "execution_count": 10,
   "id": "e87a80e6",
   "metadata": {
    "execution": {
     "iopub.execute_input": "2022-04-25T01:07:27.962584Z",
     "iopub.status.busy": "2022-04-25T01:07:27.961564Z",
     "iopub.status.idle": "2022-04-25T01:07:27.973725Z",
     "shell.execute_reply": "2022-04-25T01:07:27.974383Z",
     "shell.execute_reply.started": "2022-04-25T00:29:16.893291Z"
    },
    "papermill": {
     "duration": 0.047493,
     "end_time": "2022-04-25T01:07:27.974575",
     "exception": false,
     "start_time": "2022-04-25T01:07:27.927082",
     "status": "completed"
    },
    "tags": []
   },
   "outputs": [
    {
     "data": {
      "text/html": [
       "<div>\n",
       "<style scoped>\n",
       "    .dataframe tbody tr th:only-of-type {\n",
       "        vertical-align: middle;\n",
       "    }\n",
       "\n",
       "    .dataframe tbody tr th {\n",
       "        vertical-align: top;\n",
       "    }\n",
       "\n",
       "    .dataframe thead th {\n",
       "        text-align: right;\n",
       "    }\n",
       "</style>\n",
       "<table border=\"1\" class=\"dataframe\">\n",
       "  <thead>\n",
       "    <tr style=\"text-align: right;\">\n",
       "      <th></th>\n",
       "      <th>ride_id</th>\n",
       "      <th>rideable_type</th>\n",
       "      <th>started_at</th>\n",
       "      <th>ended_at</th>\n",
       "      <th>member_casual</th>\n",
       "      <th>day_of_week</th>\n",
       "      <th>month</th>\n",
       "      <th>ride_length</th>\n",
       "    </tr>\n",
       "  </thead>\n",
       "  <tbody>\n",
       "    <tr>\n",
       "      <th>0</th>\n",
       "      <td>E19E6F1B8D4C42ED</td>\n",
       "      <td>electric_bike</td>\n",
       "      <td>2021-01-23 16:14:19</td>\n",
       "      <td>2021-01-23 16:24:44</td>\n",
       "      <td>member</td>\n",
       "      <td>Saturday</td>\n",
       "      <td>January</td>\n",
       "      <td>10.0</td>\n",
       "    </tr>\n",
       "    <tr>\n",
       "      <th>1</th>\n",
       "      <td>DC88F20C2C55F27F</td>\n",
       "      <td>electric_bike</td>\n",
       "      <td>2021-01-27 18:43:08</td>\n",
       "      <td>2021-01-27 18:47:12</td>\n",
       "      <td>member</td>\n",
       "      <td>Wednesday</td>\n",
       "      <td>January</td>\n",
       "      <td>4.0</td>\n",
       "    </tr>\n",
       "    <tr>\n",
       "      <th>2</th>\n",
       "      <td>EC45C94683FE3F27</td>\n",
       "      <td>electric_bike</td>\n",
       "      <td>2021-01-21 22:35:54</td>\n",
       "      <td>2021-01-21 22:37:14</td>\n",
       "      <td>member</td>\n",
       "      <td>Thursday</td>\n",
       "      <td>January</td>\n",
       "      <td>1.0</td>\n",
       "    </tr>\n",
       "    <tr>\n",
       "      <th>3</th>\n",
       "      <td>4FA453A75AE377DB</td>\n",
       "      <td>electric_bike</td>\n",
       "      <td>2021-01-07 13:31:13</td>\n",
       "      <td>2021-01-07 13:42:55</td>\n",
       "      <td>member</td>\n",
       "      <td>Thursday</td>\n",
       "      <td>January</td>\n",
       "      <td>11.0</td>\n",
       "    </tr>\n",
       "    <tr>\n",
       "      <th>4</th>\n",
       "      <td>BE5E8EB4E7263A0B</td>\n",
       "      <td>electric_bike</td>\n",
       "      <td>2021-01-23 02:24:02</td>\n",
       "      <td>2021-01-23 02:24:45</td>\n",
       "      <td>casual</td>\n",
       "      <td>Saturday</td>\n",
       "      <td>January</td>\n",
       "      <td>0.0</td>\n",
       "    </tr>\n",
       "  </tbody>\n",
       "</table>\n",
       "</div>"
      ],
      "text/plain": [
       "            ride_id  rideable_type          started_at            ended_at  \\\n",
       "0  E19E6F1B8D4C42ED  electric_bike 2021-01-23 16:14:19 2021-01-23 16:24:44   \n",
       "1  DC88F20C2C55F27F  electric_bike 2021-01-27 18:43:08 2021-01-27 18:47:12   \n",
       "2  EC45C94683FE3F27  electric_bike 2021-01-21 22:35:54 2021-01-21 22:37:14   \n",
       "3  4FA453A75AE377DB  electric_bike 2021-01-07 13:31:13 2021-01-07 13:42:55   \n",
       "4  BE5E8EB4E7263A0B  electric_bike 2021-01-23 02:24:02 2021-01-23 02:24:45   \n",
       "\n",
       "  member_casual day_of_week    month  ride_length  \n",
       "0        member    Saturday  January         10.0  \n",
       "1        member   Wednesday  January          4.0  \n",
       "2        member    Thursday  January          1.0  \n",
       "3        member    Thursday  January         11.0  \n",
       "4        casual    Saturday  January          0.0  "
      ]
     },
     "execution_count": 10,
     "metadata": {},
     "output_type": "execute_result"
    }
   ],
   "source": [
    "all_trips.head()"
   ]
  },
  {
   "cell_type": "markdown",
   "id": "2c5b3b6e",
   "metadata": {
    "papermill": {
     "duration": 0.030279,
     "end_time": "2022-04-25T01:07:28.035031",
     "exception": false,
     "start_time": "2022-04-25T01:07:28.004752",
     "status": "completed"
    },
    "tags": []
   },
   "source": [
    "**Save the cleaned data to a new .csv file**"
   ]
  },
  {
   "cell_type": "code",
   "execution_count": 11,
   "id": "51703d1e",
   "metadata": {
    "execution": {
     "iopub.execute_input": "2022-04-25T01:07:28.098660Z",
     "iopub.status.busy": "2022-04-25T01:07:28.097673Z",
     "iopub.status.idle": "2022-04-25T01:08:23.815407Z",
     "shell.execute_reply": "2022-04-25T01:08:23.814778Z",
     "shell.execute_reply.started": "2022-04-25T00:29:16.912566Z"
    },
    "papermill": {
     "duration": 55.750617,
     "end_time": "2022-04-25T01:08:23.815559",
     "exception": false,
     "start_time": "2022-04-25T01:07:28.064942",
     "status": "completed"
    },
    "tags": []
   },
   "outputs": [],
   "source": [
    "all_trips.to_csv('all_trips_cleaned.csv', index = False)"
   ]
  },
  {
   "cell_type": "markdown",
   "id": "6dec6bdf",
   "metadata": {
    "papermill": {
     "duration": 0.030358,
     "end_time": "2022-04-25T01:08:23.942208",
     "exception": false,
     "start_time": "2022-04-25T01:08:23.911850",
     "status": "completed"
    },
    "tags": []
   },
   "source": [
    "**4. Analyze Data:**"
   ]
  },
  {
   "cell_type": "markdown",
   "id": "dbd4d031",
   "metadata": {
    "papermill": {
     "duration": 0.029832,
     "end_time": "2022-04-25T01:08:24.003296",
     "exception": false,
     "start_time": "2022-04-25T01:08:23.973464",
     "status": "completed"
    },
    "tags": []
   },
   "source": [
    "Analyze ride type by User"
   ]
  },
  {
   "cell_type": "code",
   "execution_count": 12,
   "id": "bfd7029b",
   "metadata": {
    "execution": {
     "iopub.execute_input": "2022-04-25T01:08:24.439750Z",
     "iopub.status.busy": "2022-04-25T01:08:24.439056Z",
     "iopub.status.idle": "2022-04-25T01:08:25.829490Z",
     "shell.execute_reply": "2022-04-25T01:08:25.830151Z",
     "shell.execute_reply.started": "2022-04-25T00:30:14.675845Z"
    },
    "papermill": {
     "duration": 1.796174,
     "end_time": "2022-04-25T01:08:25.830331",
     "exception": false,
     "start_time": "2022-04-25T01:08:24.034157",
     "status": "completed"
    },
    "tags": []
   },
   "outputs": [
    {
     "data": {
      "text/html": [
       "<div>\n",
       "<style scoped>\n",
       "    .dataframe tbody tr th:only-of-type {\n",
       "        vertical-align: middle;\n",
       "    }\n",
       "\n",
       "    .dataframe tbody tr th {\n",
       "        vertical-align: top;\n",
       "    }\n",
       "\n",
       "    .dataframe thead th {\n",
       "        text-align: right;\n",
       "    }\n",
       "</style>\n",
       "<table border=\"1\" class=\"dataframe\">\n",
       "  <thead>\n",
       "    <tr style=\"text-align: right;\">\n",
       "      <th></th>\n",
       "      <th></th>\n",
       "      <th>len</th>\n",
       "      <th>sum</th>\n",
       "      <th>mean</th>\n",
       "      <th>median</th>\n",
       "      <th>amax</th>\n",
       "      <th>amin</th>\n",
       "    </tr>\n",
       "    <tr>\n",
       "      <th>member_casual</th>\n",
       "      <th>rideable_type</th>\n",
       "      <th></th>\n",
       "      <th></th>\n",
       "      <th></th>\n",
       "      <th></th>\n",
       "      <th></th>\n",
       "      <th></th>\n",
       "    </tr>\n",
       "  </thead>\n",
       "  <tbody>\n",
       "    <tr>\n",
       "      <th rowspan=\"3\" valign=\"top\">casual</th>\n",
       "      <th>classic_bike</th>\n",
       "      <td>1266657</td>\n",
       "      <td>36021794.0</td>\n",
       "      <td>28.438475</td>\n",
       "      <td>16.0</td>\n",
       "      <td>1559.0</td>\n",
       "      <td>-54.0</td>\n",
       "    </tr>\n",
       "    <tr>\n",
       "      <th>docked_bike</th>\n",
       "      <td>312342</td>\n",
       "      <td>25300603.0</td>\n",
       "      <td>81.002885</td>\n",
       "      <td>28.0</td>\n",
       "      <td>55944.0</td>\n",
       "      <td>-41.0</td>\n",
       "    </tr>\n",
       "    <tr>\n",
       "      <th>electric_bike</th>\n",
       "      <td>950006</td>\n",
       "      <td>18369545.0</td>\n",
       "      <td>19.336241</td>\n",
       "      <td>13.0</td>\n",
       "      <td>487.0</td>\n",
       "      <td>-59.0</td>\n",
       "    </tr>\n",
       "    <tr>\n",
       "      <th rowspan=\"3\" valign=\"top\">member</th>\n",
       "      <th>classic_bike</th>\n",
       "      <td>1984371</td>\n",
       "      <td>27099708.0</td>\n",
       "      <td>13.656573</td>\n",
       "      <td>9.0</td>\n",
       "      <td>1559.0</td>\n",
       "      <td>-55.0</td>\n",
       "    </tr>\n",
       "    <tr>\n",
       "      <th>docked_bike</th>\n",
       "      <td>1</td>\n",
       "      <td>2.0</td>\n",
       "      <td>2.000000</td>\n",
       "      <td>2.0</td>\n",
       "      <td>2.0</td>\n",
       "      <td>2.0</td>\n",
       "    </tr>\n",
       "    <tr>\n",
       "      <th>electric_bike</th>\n",
       "      <td>1081686</td>\n",
       "      <td>13198976.0</td>\n",
       "      <td>12.202225</td>\n",
       "      <td>8.0</td>\n",
       "      <td>480.0</td>\n",
       "      <td>-54.0</td>\n",
       "    </tr>\n",
       "  </tbody>\n",
       "</table>\n",
       "</div>"
      ],
      "text/plain": [
       "                                 len         sum       mean  median     amax  \\\n",
       "member_casual rideable_type                                                    \n",
       "casual        classic_bike   1266657  36021794.0  28.438475    16.0   1559.0   \n",
       "              docked_bike     312342  25300603.0  81.002885    28.0  55944.0   \n",
       "              electric_bike   950006  18369545.0  19.336241    13.0    487.0   \n",
       "member        classic_bike   1984371  27099708.0  13.656573     9.0   1559.0   \n",
       "              docked_bike          1         2.0   2.000000     2.0      2.0   \n",
       "              electric_bike  1081686  13198976.0  12.202225     8.0    480.0   \n",
       "\n",
       "                             amin  \n",
       "member_casual rideable_type        \n",
       "casual        classic_bike  -54.0  \n",
       "              docked_bike   -41.0  \n",
       "              electric_bike -59.0  \n",
       "member        classic_bike  -55.0  \n",
       "              docked_bike     2.0  \n",
       "              electric_bike -54.0  "
      ]
     },
     "execution_count": 12,
     "metadata": {},
     "output_type": "execute_result"
    }
   ],
   "source": [
    "all_trips.groupby([\"member_casual\",\"rideable_type\"]).ride_length.agg([len,np.sum,np.mean,np.median,np.max,np.min])"
   ]
  },
  {
   "cell_type": "markdown",
   "id": "b3a10c55",
   "metadata": {
    "papermill": {
     "duration": 0.030582,
     "end_time": "2022-04-25T01:08:25.892674",
     "exception": false,
     "start_time": "2022-04-25T01:08:25.862092",
     "status": "completed"
    },
    "tags": []
   },
   "source": [
    "Analyze Ride length by Day of the week"
   ]
  },
  {
   "cell_type": "code",
   "execution_count": 13,
   "id": "a05c92b5",
   "metadata": {
    "execution": {
     "iopub.execute_input": "2022-04-25T01:08:25.960034Z",
     "iopub.status.busy": "2022-04-25T01:08:25.958946Z",
     "iopub.status.idle": "2022-04-25T01:08:27.797480Z",
     "shell.execute_reply": "2022-04-25T01:08:27.798028Z",
     "shell.execute_reply.started": "2022-04-25T00:30:16.599580Z"
    },
    "papermill": {
     "duration": 1.873756,
     "end_time": "2022-04-25T01:08:27.798209",
     "exception": false,
     "start_time": "2022-04-25T01:08:25.924453",
     "status": "completed"
    },
    "tags": []
   },
   "outputs": [
    {
     "data": {
      "text/html": [
       "<div>\n",
       "<style scoped>\n",
       "    .dataframe tbody tr th:only-of-type {\n",
       "        vertical-align: middle;\n",
       "    }\n",
       "\n",
       "    .dataframe tbody tr th {\n",
       "        vertical-align: top;\n",
       "    }\n",
       "\n",
       "    .dataframe thead th {\n",
       "        text-align: right;\n",
       "    }\n",
       "</style>\n",
       "<table border=\"1\" class=\"dataframe\">\n",
       "  <thead>\n",
       "    <tr style=\"text-align: right;\">\n",
       "      <th></th>\n",
       "      <th></th>\n",
       "      <th>len</th>\n",
       "      <th>sum</th>\n",
       "      <th>mean</th>\n",
       "      <th>median</th>\n",
       "      <th>amax</th>\n",
       "      <th>amin</th>\n",
       "    </tr>\n",
       "    <tr>\n",
       "      <th>member_casual</th>\n",
       "      <th>day_of_week</th>\n",
       "      <th></th>\n",
       "      <th></th>\n",
       "      <th></th>\n",
       "      <th></th>\n",
       "      <th></th>\n",
       "      <th></th>\n",
       "    </tr>\n",
       "  </thead>\n",
       "  <tbody>\n",
       "    <tr>\n",
       "      <th rowspan=\"7\" valign=\"top\">casual</th>\n",
       "      <th>Friday</th>\n",
       "      <td>364080</td>\n",
       "      <td>10870937.0</td>\n",
       "      <td>29.858649</td>\n",
       "      <td>14.0</td>\n",
       "      <td>55691.0</td>\n",
       "      <td>-2.0</td>\n",
       "    </tr>\n",
       "    <tr>\n",
       "      <th>Monday</th>\n",
       "      <td>286376</td>\n",
       "      <td>8988067.0</td>\n",
       "      <td>31.385546</td>\n",
       "      <td>15.0</td>\n",
       "      <td>31681.0</td>\n",
       "      <td>-2.0</td>\n",
       "    </tr>\n",
       "    <tr>\n",
       "      <th>Saturday</th>\n",
       "      <td>558000</td>\n",
       "      <td>19092756.0</td>\n",
       "      <td>34.216409</td>\n",
       "      <td>17.0</td>\n",
       "      <td>55944.0</td>\n",
       "      <td>-1.0</td>\n",
       "    </tr>\n",
       "    <tr>\n",
       "      <th>Sunday</th>\n",
       "      <td>481143</td>\n",
       "      <td>17836556.0</td>\n",
       "      <td>37.071216</td>\n",
       "      <td>18.0</td>\n",
       "      <td>53921.0</td>\n",
       "      <td>-59.0</td>\n",
       "    </tr>\n",
       "    <tr>\n",
       "      <th>Thursday</th>\n",
       "      <td>286064</td>\n",
       "      <td>7784536.0</td>\n",
       "      <td>27.212568</td>\n",
       "      <td>13.0</td>\n",
       "      <td>49107.0</td>\n",
       "      <td>0.0</td>\n",
       "    </tr>\n",
       "    <tr>\n",
       "      <th>Tuesday</th>\n",
       "      <td>274392</td>\n",
       "      <td>7540888.0</td>\n",
       "      <td>27.482171</td>\n",
       "      <td>14.0</td>\n",
       "      <td>38922.0</td>\n",
       "      <td>-4.0</td>\n",
       "    </tr>\n",
       "    <tr>\n",
       "      <th>Wednesday</th>\n",
       "      <td>278950</td>\n",
       "      <td>7578202.0</td>\n",
       "      <td>27.166883</td>\n",
       "      <td>13.0</td>\n",
       "      <td>38963.0</td>\n",
       "      <td>-1.0</td>\n",
       "    </tr>\n",
       "    <tr>\n",
       "      <th rowspan=\"7\" valign=\"top\">member</th>\n",
       "      <th>Friday</th>\n",
       "      <td>446428</td>\n",
       "      <td>5730098.0</td>\n",
       "      <td>12.835436</td>\n",
       "      <td>9.0</td>\n",
       "      <td>1499.0</td>\n",
       "      <td>-3.0</td>\n",
       "    </tr>\n",
       "    <tr>\n",
       "      <th>Monday</th>\n",
       "      <td>416212</td>\n",
       "      <td>5309910.0</td>\n",
       "      <td>12.757705</td>\n",
       "      <td>9.0</td>\n",
       "      <td>1499.0</td>\n",
       "      <td>-1.0</td>\n",
       "    </tr>\n",
       "    <tr>\n",
       "      <th>Saturday</th>\n",
       "      <td>433047</td>\n",
       "      <td>6398346.0</td>\n",
       "      <td>14.775177</td>\n",
       "      <td>10.0</td>\n",
       "      <td>1559.0</td>\n",
       "      <td>-2.0</td>\n",
       "    </tr>\n",
       "    <tr>\n",
       "      <th>Sunday</th>\n",
       "      <td>376142</td>\n",
       "      <td>5704121.0</td>\n",
       "      <td>15.164807</td>\n",
       "      <td>10.0</td>\n",
       "      <td>1499.0</td>\n",
       "      <td>-55.0</td>\n",
       "    </tr>\n",
       "    <tr>\n",
       "      <th>Thursday</th>\n",
       "      <td>451524</td>\n",
       "      <td>5547797.0</td>\n",
       "      <td>12.286826</td>\n",
       "      <td>9.0</td>\n",
       "      <td>1499.0</td>\n",
       "      <td>-1.0</td>\n",
       "    </tr>\n",
       "    <tr>\n",
       "      <th>Tuesday</th>\n",
       "      <td>465513</td>\n",
       "      <td>5724831.0</td>\n",
       "      <td>12.297897</td>\n",
       "      <td>9.0</td>\n",
       "      <td>1499.0</td>\n",
       "      <td>-3.0</td>\n",
       "    </tr>\n",
       "    <tr>\n",
       "      <th>Wednesday</th>\n",
       "      <td>477192</td>\n",
       "      <td>5883583.0</td>\n",
       "      <td>12.329593</td>\n",
       "      <td>9.0</td>\n",
       "      <td>1499.0</td>\n",
       "      <td>-8.0</td>\n",
       "    </tr>\n",
       "  </tbody>\n",
       "</table>\n",
       "</div>"
      ],
      "text/plain": [
       "                              len         sum       mean  median     amax  \\\n",
       "member_casual day_of_week                                                   \n",
       "casual        Friday       364080  10870937.0  29.858649    14.0  55691.0   \n",
       "              Monday       286376   8988067.0  31.385546    15.0  31681.0   \n",
       "              Saturday     558000  19092756.0  34.216409    17.0  55944.0   \n",
       "              Sunday       481143  17836556.0  37.071216    18.0  53921.0   \n",
       "              Thursday     286064   7784536.0  27.212568    13.0  49107.0   \n",
       "              Tuesday      274392   7540888.0  27.482171    14.0  38922.0   \n",
       "              Wednesday    278950   7578202.0  27.166883    13.0  38963.0   \n",
       "member        Friday       446428   5730098.0  12.835436     9.0   1499.0   \n",
       "              Monday       416212   5309910.0  12.757705     9.0   1499.0   \n",
       "              Saturday     433047   6398346.0  14.775177    10.0   1559.0   \n",
       "              Sunday       376142   5704121.0  15.164807    10.0   1499.0   \n",
       "              Thursday     451524   5547797.0  12.286826     9.0   1499.0   \n",
       "              Tuesday      465513   5724831.0  12.297897     9.0   1499.0   \n",
       "              Wednesday    477192   5883583.0  12.329593     9.0   1499.0   \n",
       "\n",
       "                           amin  \n",
       "member_casual day_of_week        \n",
       "casual        Friday       -2.0  \n",
       "              Monday       -2.0  \n",
       "              Saturday     -1.0  \n",
       "              Sunday      -59.0  \n",
       "              Thursday      0.0  \n",
       "              Tuesday      -4.0  \n",
       "              Wednesday    -1.0  \n",
       "member        Friday       -3.0  \n",
       "              Monday       -1.0  \n",
       "              Saturday     -2.0  \n",
       "              Sunday      -55.0  \n",
       "              Thursday     -1.0  \n",
       "              Tuesday      -3.0  \n",
       "              Wednesday    -8.0  "
      ]
     },
     "execution_count": 13,
     "metadata": {},
     "output_type": "execute_result"
    }
   ],
   "source": [
    "all_trips.groupby([\"member_casual\",\"day_of_week\"]).ride_length.agg([len,np.sum,np.mean,np.median,np.max,np.min])"
   ]
  },
  {
   "cell_type": "markdown",
   "id": "9a4219e3",
   "metadata": {
    "papermill": {
     "duration": 0.031263,
     "end_time": "2022-04-25T01:08:27.860878",
     "exception": false,
     "start_time": "2022-04-25T01:08:27.829615",
     "status": "completed"
    },
    "tags": []
   },
   "source": [
    "**5. Share:**"
   ]
  },
  {
   "cell_type": "markdown",
   "id": "c7cd4c1d",
   "metadata": {
    "papermill": {
     "duration": 0.031061,
     "end_time": "2022-04-25T01:08:27.924026",
     "exception": false,
     "start_time": "2022-04-25T01:08:27.892965",
     "status": "completed"
    },
    "tags": []
   },
   "source": [
    "**Visualizations**"
   ]
  },
  {
   "cell_type": "markdown",
   "id": "143db7ab",
   "metadata": {
    "papermill": {
     "duration": 0.03104,
     "end_time": "2022-04-25T01:08:27.986358",
     "exception": false,
     "start_time": "2022-04-25T01:08:27.955318",
     "status": "completed"
    },
    "tags": []
   },
   "source": [
    "Distribution by User type"
   ]
  },
  {
   "cell_type": "code",
   "execution_count": 14,
   "id": "e7dccda0",
   "metadata": {
    "execution": {
     "iopub.execute_input": "2022-04-25T01:08:28.055853Z",
     "iopub.status.busy": "2022-04-25T01:08:28.054762Z",
     "iopub.status.idle": "2022-04-25T01:08:29.153736Z",
     "shell.execute_reply": "2022-04-25T01:08:29.154544Z",
     "shell.execute_reply.started": "2022-04-25T00:30:18.492407Z"
    },
    "papermill": {
     "duration": 1.137,
     "end_time": "2022-04-25T01:08:29.154739",
     "exception": false,
     "start_time": "2022-04-25T01:08:28.017739",
     "status": "completed"
    },
    "tags": []
   },
   "outputs": [
    {
     "data": {
      "image/png": "[encoded data removed]",
      "text/plain": [
       "<Figure size 432x288 with 1 Axes>"
      ]
     },
     "metadata": {},
     "output_type": "display_data"
    }
   ],
   "source": [
    "plt.pie(all_trips[\"member_casual\"].value_counts(ascending = True), autopct=\"%.1f%%\", labels = ['casual', 'member'], labeldistance = 1.2, pctdistance = 0.45)\n",
    "plt.show()"
   ]
  },
  {
   "cell_type": "markdown",
   "id": "9a78aa51",
   "metadata": {
    "papermill": {
     "duration": 0.031807,
     "end_time": "2022-04-25T01:08:29.219476",
     "exception": false,
     "start_time": "2022-04-25T01:08:29.187669",
     "status": "completed"
    },
    "tags": []
   },
   "source": [
    "Total Rides by User type"
   ]
  },
  {
   "cell_type": "code",
   "execution_count": 15,
   "id": "fde935d0",
   "metadata": {
    "execution": {
     "iopub.execute_input": "2022-04-25T01:08:29.287911Z",
     "iopub.status.busy": "2022-04-25T01:08:29.286938Z",
     "iopub.status.idle": "2022-04-25T01:08:33.763658Z",
     "shell.execute_reply": "2022-04-25T01:08:33.762979Z",
     "shell.execute_reply.started": "2022-04-25T00:54:42.270807Z"
    },
    "papermill": {
     "duration": 4.512052,
     "end_time": "2022-04-25T01:08:33.763814",
     "exception": false,
     "start_time": "2022-04-25T01:08:29.251762",
     "status": "completed"
    },
    "tags": []
   },
   "outputs": [
    {
     "data": {
      "image/png": "[encoded data removed]",
      "text/plain": [
       "<Figure size 432x288 with 1 Axes>"
      ]
     },
     "metadata": {
      "needs_background": "light"
     },
     "output_type": "display_data"
    }
   ],
   "source": [
    "data_ra = all_trips.pivot_table(index = 'rideable_type', values = 'ride_length', columns = 'member_casual',aggfunc = [len, np.mean])\n",
    "\n",
    "ax = data_ra[\"len\"].plot.bar()\n",
    "\n",
    "for i, number in enumerate(data_ra['len']['casual']):\n",
    "    plt.text(x=i-0.25, y= number + 1, s=round(number,2))\n",
    "for i, number in enumerate(data_ra['len']['member']):\n",
    "    plt.text(x=i, y= number + 1, s=round(number,2))\n",
    "\n",
    "ax.yaxis.set_major_formatter(ticker.EngFormatter())\n",
    "ax.set(ylabel = \"Total number of Rides \", title = \"Total number of Rides by User\")\n",
    "\n",
    "plt.show()"
   ]
  },
  {
   "cell_type": "markdown",
   "id": "768f5562",
   "metadata": {
    "papermill": {
     "duration": 0.033543,
     "end_time": "2022-04-25T01:08:33.831429",
     "exception": false,
     "start_time": "2022-04-25T01:08:33.797886",
     "status": "completed"
    },
    "tags": []
   },
   "source": [
    "\n",
    "Average ride length by User type"
   ]
  },
  {
   "cell_type": "code",
   "execution_count": 16,
   "id": "dd5e0118",
   "metadata": {
    "execution": {
     "iopub.execute_input": "2022-04-25T01:08:33.960484Z",
     "iopub.status.busy": "2022-04-25T01:08:33.907344Z",
     "iopub.status.idle": "2022-04-25T01:08:37.152422Z",
     "shell.execute_reply": "2022-04-25T01:08:37.151849Z",
     "shell.execute_reply.started": "2022-04-25T00:30:24.408239Z"
    },
    "papermill": {
     "duration": 3.28742,
     "end_time": "2022-04-25T01:08:37.152589",
     "exception": false,
     "start_time": "2022-04-25T01:08:33.865169",
     "status": "completed"
    },
    "tags": []
   },
   "outputs": [
    {
     "data": {
      "image/png": "[encoded data removed]",
      "text/plain": [
       "<Figure size 432x288 with 1 Axes>"
      ]
     },
     "metadata": {
      "needs_background": "light"
     },
     "output_type": "display_data"
    }
   ],
   "source": [
    "data_ra = all_trips.pivot_table(index = 'rideable_type', values = 'ride_length', columns = 'member_casual',aggfunc = [len, np.mean])\n",
    "\n",
    "ax = data_ra[\"mean\"].plot.bar()\n",
    "\n",
    "for i, number in enumerate(data_ra['mean']['casual']):\n",
    "    plt.text(x=i-0.25, y= number + 1, s=round(number,2))\n",
    "for i, number in enumerate(data_ra['mean']['member']):\n",
    "    plt.text(x=i, y= number + 1, s=round(number,2))\n",
    "\n",
    "ax.yaxis.set_major_formatter(ticker.EngFormatter())\n",
    "ax.set(ylabel = \"Avg. Ride Length (Mins)\", title = \"Avg. Ride Length of Ride length by User\")\n",
    "\n",
    "plt.show()"
   ]
  },
  {
   "cell_type": "markdown",
   "id": "11cb6cbd",
   "metadata": {
    "papermill": {
     "duration": 0.033842,
     "end_time": "2022-04-25T01:08:37.220925",
     "exception": false,
     "start_time": "2022-04-25T01:08:37.187083",
     "status": "completed"
    },
    "tags": []
   },
   "source": [
    "Total Rides by Month"
   ]
  },
  {
   "cell_type": "code",
   "execution_count": 17,
   "id": "95d90fee",
   "metadata": {
    "execution": {
     "iopub.execute_input": "2022-04-25T01:08:37.401805Z",
     "iopub.status.busy": "2022-04-25T01:08:37.400791Z",
     "iopub.status.idle": "2022-04-25T01:08:38.952539Z",
     "shell.execute_reply": "2022-04-25T01:08:38.953082Z",
     "shell.execute_reply.started": "2022-04-25T01:05:38.289472Z"
    },
    "papermill": {
     "duration": 1.697095,
     "end_time": "2022-04-25T01:08:38.953268",
     "exception": false,
     "start_time": "2022-04-25T01:08:37.256173",
     "status": "completed"
    },
    "tags": []
   },
   "outputs": [
    {
     "data": {
      "image/png": "[encoded data removed]",
      "text/plain": [
       "<Figure size 1080x576 with 2 Axes>"
      ]
     },
     "metadata": {
      "needs_background": "light"
     },
     "output_type": "display_data"
    }
   ],
   "source": [
    "month_bar = all_trips.groupby([\"member_casual\",\"month\"])[\"ride_length\"].count()\n",
    "\n",
    "fig,ax = plt.subplots(1,2, figsize = (15,8))\n",
    "\n",
    "ax1 = month_bar[\"casual\"].plot.bar(ax =ax[0], title = 'casual', ylabel = 'Total number of Rides')\n",
    "ax1.yaxis.set_major_formatter(ticker.EngFormatter())\n",
    "\n",
    "ax2 = month_bar[\"member\"].plot.bar(ax =ax[1], title = 'member', color= '#00BFC4', ylabel = 'Total number of Rides')\n",
    "ax2.yaxis.set_major_formatter(ticker.EngFormatter())\n",
    "\n",
    "\n",
    "fig.suptitle('Total number of Rides by Month')\n",
    "\n",
    "\n",
    "plt.show()"
   ]
  },
  {
   "cell_type": "markdown",
   "id": "ad04d26d",
   "metadata": {
    "papermill": {
     "duration": 0.034999,
     "end_time": "2022-04-25T01:08:39.023594",
     "exception": false,
     "start_time": "2022-04-25T01:08:38.988595",
     "status": "completed"
    },
    "tags": []
   },
   "source": [
    "Total Rides by Day"
   ]
  },
  {
   "cell_type": "code",
   "execution_count": 18,
   "id": "2639664e",
   "metadata": {
    "execution": {
     "iopub.execute_input": "2022-04-25T01:08:39.464962Z",
     "iopub.status.busy": "2022-04-25T01:08:39.463917Z",
     "iopub.status.idle": "2022-04-25T01:08:40.973929Z",
     "shell.execute_reply": "2022-04-25T01:08:40.973200Z",
     "shell.execute_reply.started": "2022-04-25T00:30:29.622057Z"
    },
    "papermill": {
     "duration": 1.915086,
     "end_time": "2022-04-25T01:08:40.974085",
     "exception": false,
     "start_time": "2022-04-25T01:08:39.058999",
     "status": "completed"
    },
    "tags": []
   },
   "outputs": [
    {
     "data": {
      "image/png": "[encoded data removed]",
      "text/plain": [
       "<Figure size 1080x576 with 2 Axes>"
      ]
     },
     "metadata": {
      "needs_background": "light"
     },
     "output_type": "display_data"
    }
   ],
   "source": [
    "day_bar = all_trips.groupby([\"member_casual\",\"day_of_week\"])[\"ride_length\"].agg([len, np.mean])\n",
    "\n",
    "fig,ax = plt.subplots(1,2, figsize = (15,8))\n",
    "\n",
    "ax1 = day_bar.loc[\"casual\", \"len\"].plot.bar(ax =ax[0], title = 'casual', ylabel = 'Total number of Rides')\n",
    "ax1.yaxis.set_major_formatter(ticker.EngFormatter())\n",
    "\n",
    "ax2 = day_bar.loc[\"member\",\"len\"].plot.bar(ax =ax[1], title = 'member' , color= '#00BFC4', ylabel = 'Total number of Rides')\n",
    "ax2.yaxis.set_major_formatter(ticker.EngFormatter())\n",
    "\n",
    "fig.suptitle('Total number of Rides by Day')\n",
    "\n",
    "plt.show()"
   ]
  },
  {
   "cell_type": "markdown",
   "id": "d3e9493c",
   "metadata": {
    "papermill": {
     "duration": 0.036786,
     "end_time": "2022-04-25T01:08:41.048133",
     "exception": false,
     "start_time": "2022-04-25T01:08:41.011347",
     "status": "completed"
    },
    "tags": []
   },
   "source": [
    "**6. Act:**\n",
    "\n",
    "Conclusions\n",
    "\n",
    "After processing and analysing the data, i have come with the following obesrvations:\n",
    "\n",
    "- There are overall more members than casual users by user type\n",
    "- Casual users spend more time riding on average compare to members\n",
    "- The peak period of usage is during the summer months (June to August) and the off peak period is the winter months\n",
    "- Casual users spend more time riding during the weekend while Members spend more time riding during the weekday, indicating members usage is mostly for daily commute while casuals usage is mainly for leisure during the weekend.\n",
    "\n",
    "\n"
   ]
  }
 ],
 "metadata": {
  "kernelspec": {
   "display_name": "Python 3",
   "language": "python",
   "name": "python3"
  },
  "language_info": {
   "codemirror_mode": {
    "name": "ipython",
    "version": 3
   },
   "file_extension": ".py",
   "mimetype": "text/x-python",
   "name": "python",
   "nbconvert_exporter": "python",
   "pygments_lexer": "ipython3",
   "version": "3.7.10"
  },
  "papermill": {
   "default_parameters": {},
   "duration": 151.6122,
   "end_time": "2022-04-25T01:08:43.200606",
   "environment_variables": {},
   "exception": null,
   "input_path": "__notebook__.ipynb",
   "output_path": "__notebook__.ipynb",
   "parameters": {},
   "start_time": "2022-04-25T01:06:11.588406",
   "version": "2.3.3"
  }
 },
 "nbformat": 4,
 "nbformat_minor": 5
}
