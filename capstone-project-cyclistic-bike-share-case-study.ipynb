{
 "cells": [
  {
   "cell_type": "markdown",
   "id": "27478ec5",
   "metadata": {
    "papermill": {
     "duration": 0.02396,
     "end_time": "2022-04-25T18:45:27.463334",
     "exception": false,
     "start_time": "2022-04-25T18:45:27.439374",
     "status": "completed"
    },
    "tags": []
   },
   "source": [
    "# Project Details"
   ]
  },
  {
   "cell_type": "markdown",
   "id": "e376cd8e",
   "metadata": {
    "papermill": {
     "duration": 0.023158,
     "end_time": "2022-04-25T18:45:27.509446",
     "exception": false,
     "start_time": "2022-04-25T18:45:27.486288",
     "status": "completed"
    },
    "tags": []
   },
   "source": [
    "**Scenario**\n",
    "You are a junior data analyst working in the marketing analyst team at Cyclistic, a bike-share company in Chicago. The director of marketing believes the company’s future success depends on maximizing the number of annual memberships. Therefore, your team wants to understand how casual riders and annual members use Cyclistic bikes differently. From these insights, your team will design a new marketing strategy to convert casual riders into annual members. But first, Cyclistic executives must approve your recommendations, so they must be backed up with compelling data insights and professional data visualizations.\n",
    "\n",
    "**Characters and teams**\n",
    "● Cyclistic: A bike-share program that features more than 5,800 bicycles and 600 docking stations. Cyclistic sets itself apart by also offering reclining bikes, hand tricycles, and cargo bikes, making bike-share more inclusive to people with disabilities and riders who can’t use a standard two-wheeled bike. The majority of riders opt for traditional bikes; about 8% of riders use the assistive options. Cyclistic users are more likely to ride for leisure, but about 30% use them to commute to work each day.\n",
    "● Lily Moreno: The director of marketing and your manager. Moreno is responsible for the development of campaigns and initiatives to promote the bike-share program. These may include email, social media, and other channels.\n",
    "● Cyclistic marketing analytics team: A team of data analysts who are responsible for collecting, analyzing, and reporting data that helps guide Cyclistic marketing strategy. You joined this team six months ago and have been busy learning about Cyclistic’s mission and business goals — as well as how you, as a junior data analyst, can help Cyclistic achieve them.\n",
    "● Cyclistic executive team: The notoriously detail-oriented executive team will decide whether to approve the recommended marketing program.\n",
    "\n",
    "**About the company**\n",
    "In 2016, Cyclistic launched a successful bike-share offering. Since then, the program has grown to a fleet of 5,824 bicycles that are geotracked and locked into a network of 692 stations across Chicago. The bikes can be unlocked from one station and returned to any other station in the system anytime.\n",
    "Until now, Cyclistic’s marketing strategy relied on building general awareness and appealing to broad consumer segments. One approach that helped make these things possible was the flexibility of its pricing plans: single-ride passes, full-day passes, and annual memberships. Customers who purchase single-ride or full-day passes are referred to as casual riders. Customers who purchase annual memberships are Cyclistic members.\n",
    "Cyclistic’s finance analysts have concluded that annual members are much more profitable than casual riders. Although the pricing flexibility helps Cyclistic attract more customers, Moreno believes that maximizing the number of annual members will be key to future growth. Rather than creating a marketing campaign that targets all-new customers, Moreno believes there is a very good chance to convert casual riders into members. She notes that casual riders are already aware of the Cyclistic program and have chosen Cyclistic for their mobility needs.\n",
    "Moreno has set a clear goal: Design marketing strategies aimed at converting casual riders into annual members. In order to do that, however, the marketing analyst team needs to better understand how annual members and casual riders differ, why casual riders would buy a membership, and how digital media could affect their marketing tactics. Moreno and her team are interested in analyzing the Cyclistic historical bike trip data to identify trends.\n",
    "\n",
    "**Ask\n",
    "Three questions will guide the future marketing program:**\n",
    "1. How do annual members and casual riders use Cyclistic bikes differently?\n",
    "2. Why would casual riders buy Cyclistic annual memberships?\n",
    "3. How can Cyclistic use digital media to influence casual riders to become members?\n",
    "\n",
    "**Moreno has assigned you the first question to answer: How do annual members and casual riders use Cyclistic bikes differently?\n",
    "You will produce a report with the following deliverables:**\n",
    "\n",
    "1. A clear statement of the business task\n",
    "2. A description of all data sources used\n",
    "3. Documentation of any cleaning or manipulation of data\n",
    "4. A summary of your analysis\n",
    "5. Supporting visualizations and key findings\n",
    "6. Your top three recommendations based on your analysis"
   ]
  },
  {
   "cell_type": "markdown",
   "id": "bf13779b",
   "metadata": {
    "papermill": {
     "duration": 0.024958,
     "end_time": "2022-04-25T18:45:27.557152",
     "exception": false,
     "start_time": "2022-04-25T18:45:27.532194",
     "status": "completed"
    },
    "tags": []
   },
   "source": [
    "# Methodology"
   ]
  },
  {
   "cell_type": "markdown",
   "id": "2db6869c",
   "metadata": {
    "papermill": {
     "duration": 0.022395,
     "end_time": "2022-04-25T18:45:27.604941",
     "exception": false,
     "start_time": "2022-04-25T18:45:27.582546",
     "status": "completed"
    },
    "tags": []
   },
   "source": [
    "**1. Ask:**\n",
    "\n",
    "Business Task - **How do annual members and casual riders use Cyclistic bikes differently?**"
   ]
  },
  {
   "cell_type": "markdown",
   "id": "c034b6eb",
   "metadata": {
    "papermill": {
     "duration": 0.022176,
     "end_time": "2022-04-25T18:45:27.652571",
     "exception": false,
     "start_time": "2022-04-25T18:45:27.630395",
     "status": "completed"
    },
    "tags": []
   },
   "source": [
    "**2. Prepare:**\n",
    "\n",
    "- Download previous 12 months of data\n",
    "- The license has been made available by Motivate International Inc."
   ]
  },
  {
   "cell_type": "markdown",
   "id": "c5616a01",
   "metadata": {
    "papermill": {
     "duration": 0.02295,
     "end_time": "2022-04-25T18:45:27.699087",
     "exception": false,
     "start_time": "2022-04-25T18:45:27.676137",
     "status": "completed"
    },
    "tags": []
   },
   "source": [
    "# Import libraries"
   ]
  },
  {
   "cell_type": "code",
   "execution_count": 1,
   "id": "12cf8ef9",
   "metadata": {
    "execution": {
     "iopub.execute_input": "2022-04-25T18:45:27.750050Z",
     "iopub.status.busy": "2022-04-25T18:45:27.748975Z",
     "iopub.status.idle": "2022-04-25T18:45:28.632941Z",
     "shell.execute_reply": "2022-04-25T18:45:28.632105Z",
     "shell.execute_reply.started": "2022-04-25T17:13:06.649479Z"
    },
    "papermill": {
     "duration": 0.910891,
     "end_time": "2022-04-25T18:45:28.633112",
     "exception": false,
     "start_time": "2022-04-25T18:45:27.722221",
     "status": "completed"
    },
    "tags": []
   },
   "outputs": [],
   "source": [
    "import pandas as pd\n",
    "import numpy as np\n",
    "import matplotlib as mpl\n",
    "import matplotlib.pyplot as plt\n",
    "import matplotlib.ticker as ticker\n",
    "import seaborn as sns"
   ]
  },
  {
   "cell_type": "markdown",
   "id": "ceb7ce4d",
   "metadata": {
    "papermill": {
     "duration": 0.02273,
     "end_time": "2022-04-25T18:45:28.678712",
     "exception": false,
     "start_time": "2022-04-25T18:45:28.655982",
     "status": "completed"
    },
    "tags": []
   },
   "source": [
    "# Import dataset\n",
    "\n",
    "The dataset was provided by google for the purpose of this project. 12 months of trip data waas downloaded as .csv files."
   ]
  },
  {
   "cell_type": "code",
   "execution_count": 2,
   "id": "6dfc0554",
   "metadata": {
    "execution": {
     "iopub.execute_input": "2022-04-25T18:45:28.728385Z",
     "iopub.status.busy": "2022-04-25T18:45:28.727415Z",
     "iopub.status.idle": "2022-04-25T18:45:58.916952Z",
     "shell.execute_reply": "2022-04-25T18:45:58.916399Z",
     "shell.execute_reply.started": "2022-04-25T17:13:07.615236Z"
    },
    "papermill": {
     "duration": 30.215515,
     "end_time": "2022-04-25T18:45:58.917098",
     "exception": false,
     "start_time": "2022-04-25T18:45:28.701583",
     "status": "completed"
    },
    "tags": []
   },
   "outputs": [],
   "source": [
    "Jan_2021 = pd.read_csv('../input/cyclistic-dataset-2021/202101-divvy-tripdata.csv')\n",
    "Feb_2021 = pd.read_csv('../input/cyclistic-dataset-2021/202102-divvy-tripdata.csv')\n",
    "March_2021 = pd.read_csv('../input/cyclistic-dataset-2021/202103-divvy-tripdata.csv')\n",
    "April_2021 = pd.read_csv('../input/cyclistic-dataset-2021/202104-divvy-tripdata.csv')\n",
    "May_2021 = pd.read_csv('../input/cyclistic-dataset-2021/202105-divvy-tripdata.csv')\n",
    "June_2021 = pd.read_csv('../input/cyclistic-dataset-2021/202106-divvy-tripdata.csv')\n",
    "July_2021 = pd.read_csv('../input/cyclistic-dataset-2021/202107-divvy-tripdata.csv')\n",
    "Aug_2021 = pd.read_csv('../input/cyclistic-dataset-2021/202108-divvy-tripdata.csv')\n",
    "Sept_2021 = pd.read_csv('../input/cyclistic-dataset-2021/202109-divvy-tripdata.csv')\n",
    "Oct_2021 = pd.read_csv('../input/cyclistic-dataset-2021/202110-divvy-tripdata.csv')\n",
    "Nov_2021 = pd.read_csv('../input/cyclistic-dataset-2021/202111-divvy-tripdata.csv')\n",
    "Dec_2021 = pd.read_csv('../input/cyclistic-dataset-2021/202112-divvy-tripdata.csv')\n"
   ]
  },
  {
   "cell_type": "markdown",
   "id": "ec5ca5c8",
   "metadata": {
    "papermill": {
     "duration": 0.024232,
     "end_time": "2022-04-25T18:45:58.965169",
     "exception": false,
     "start_time": "2022-04-25T18:45:58.940937",
     "status": "completed"
    },
    "tags": []
   },
   "source": [
    "**Combine into one table**"
   ]
  },
  {
   "cell_type": "code",
   "execution_count": 3,
   "id": "4d7c98f9",
   "metadata": {
    "execution": {
     "iopub.execute_input": "2022-04-25T18:45:59.020030Z",
     "iopub.status.busy": "2022-04-25T18:45:59.019371Z",
     "iopub.status.idle": "2022-04-25T18:46:00.741423Z",
     "shell.execute_reply": "2022-04-25T18:46:00.740065Z",
     "shell.execute_reply.started": "2022-04-25T17:13:36.469683Z"
    },
    "papermill": {
     "duration": 1.752462,
     "end_time": "2022-04-25T18:46:00.741723",
     "exception": false,
     "start_time": "2022-04-25T18:45:58.989261",
     "status": "completed"
    },
    "tags": []
   },
   "outputs": [],
   "source": [
    "all_trips = pd.concat([Jan_2021, Feb_2021, March_2021, April_2021, May_2021, June_2021, July_2021, Aug_2021, Sept_2021, Oct_2021, Nov_2021, Dec_2021])"
   ]
  },
  {
   "cell_type": "markdown",
   "id": "08b12459",
   "metadata": {
    "papermill": {
     "duration": 0.024061,
     "end_time": "2022-04-25T18:46:00.792771",
     "exception": false,
     "start_time": "2022-04-25T18:46:00.768710",
     "status": "completed"
    },
    "tags": []
   },
   "source": [
    "**View new combined table**"
   ]
  },
  {
   "cell_type": "code",
   "execution_count": 4,
   "id": "c3083fe7",
   "metadata": {
    "execution": {
     "iopub.execute_input": "2022-04-25T18:46:00.876628Z",
     "iopub.status.busy": "2022-04-25T18:46:00.875678Z",
     "iopub.status.idle": "2022-04-25T18:46:00.879085Z",
     "shell.execute_reply": "2022-04-25T18:46:00.879619Z",
     "shell.execute_reply.started": "2022-04-25T17:13:37.781501Z"
    },
    "papermill": {
     "duration": 0.061418,
     "end_time": "2022-04-25T18:46:00.879802",
     "exception": false,
     "start_time": "2022-04-25T18:46:00.818384",
     "status": "completed"
    },
    "tags": []
   },
   "outputs": [
    {
     "name": "stdout",
     "output_type": "stream",
     "text": [
      "<class 'pandas.core.frame.DataFrame'>\n",
      "Int64Index: 5595063 entries, 0 to 247539\n",
      "Data columns (total 13 columns):\n",
      " #   Column              Dtype  \n",
      "---  ------              -----  \n",
      " 0   ride_id             object \n",
      " 1   rideable_type       object \n",
      " 2   started_at          object \n",
      " 3   ended_at            object \n",
      " 4   start_station_name  object \n",
      " 5   start_station_id    object \n",
      " 6   end_station_name    object \n",
      " 7   end_station_id      object \n",
      " 8   start_lat           float64\n",
      " 9   start_lng           float64\n",
      " 10  end_lat             float64\n",
      " 11  end_lng             float64\n",
      " 12  member_casual       object \n",
      "dtypes: float64(4), object(9)\n",
      "memory usage: 597.6+ MB\n"
     ]
    }
   ],
   "source": [
    "all_trips.info()\n"
   ]
  },
  {
   "cell_type": "code",
   "execution_count": 5,
   "id": "2938df7c",
   "metadata": {
    "execution": {
     "iopub.execute_input": "2022-04-25T18:46:00.935558Z",
     "iopub.status.busy": "2022-04-25T18:46:00.934851Z",
     "iopub.status.idle": "2022-04-25T18:46:00.964933Z",
     "shell.execute_reply": "2022-04-25T18:46:00.964403Z",
     "shell.execute_reply.started": "2022-04-25T17:13:37.805938Z"
    },
    "papermill": {
     "duration": 0.058243,
     "end_time": "2022-04-25T18:46:00.965087",
     "exception": false,
     "start_time": "2022-04-25T18:46:00.906844",
     "status": "completed"
    },
    "tags": []
   },
   "outputs": [
    {
     "data": {
      "text/html": [
       "<div>\n",
       "<style scoped>\n",
       "    .dataframe tbody tr th:only-of-type {\n",
       "        vertical-align: middle;\n",
       "    }\n",
       "\n",
       "    .dataframe tbody tr th {\n",
       "        vertical-align: top;\n",
       "    }\n",
       "\n",
       "    .dataframe thead th {\n",
       "        text-align: right;\n",
       "    }\n",
       "</style>\n",
       "<table border=\"1\" class=\"dataframe\">\n",
       "  <thead>\n",
       "    <tr style=\"text-align: right;\">\n",
       "      <th></th>\n",
       "      <th>ride_id</th>\n",
       "      <th>rideable_type</th>\n",
       "      <th>started_at</th>\n",
       "      <th>ended_at</th>\n",
       "      <th>start_station_name</th>\n",
       "      <th>start_station_id</th>\n",
       "      <th>end_station_name</th>\n",
       "      <th>end_station_id</th>\n",
       "      <th>start_lat</th>\n",
       "      <th>start_lng</th>\n",
       "      <th>end_lat</th>\n",
       "      <th>end_lng</th>\n",
       "      <th>member_casual</th>\n",
       "    </tr>\n",
       "  </thead>\n",
       "  <tbody>\n",
       "    <tr>\n",
       "      <th>0</th>\n",
       "      <td>E19E6F1B8D4C42ED</td>\n",
       "      <td>electric_bike</td>\n",
       "      <td>2021-01-23 16:14:19</td>\n",
       "      <td>2021-01-23 16:24:44</td>\n",
       "      <td>California Ave &amp; Cortez St</td>\n",
       "      <td>17660</td>\n",
       "      <td>NaN</td>\n",
       "      <td>NaN</td>\n",
       "      <td>41.900341</td>\n",
       "      <td>-87.696743</td>\n",
       "      <td>41.89</td>\n",
       "      <td>-87.72</td>\n",
       "      <td>member</td>\n",
       "    </tr>\n",
       "    <tr>\n",
       "      <th>1</th>\n",
       "      <td>DC88F20C2C55F27F</td>\n",
       "      <td>electric_bike</td>\n",
       "      <td>2021-01-27 18:43:08</td>\n",
       "      <td>2021-01-27 18:47:12</td>\n",
       "      <td>California Ave &amp; Cortez St</td>\n",
       "      <td>17660</td>\n",
       "      <td>NaN</td>\n",
       "      <td>NaN</td>\n",
       "      <td>41.900333</td>\n",
       "      <td>-87.696707</td>\n",
       "      <td>41.90</td>\n",
       "      <td>-87.69</td>\n",
       "      <td>member</td>\n",
       "    </tr>\n",
       "    <tr>\n",
       "      <th>2</th>\n",
       "      <td>EC45C94683FE3F27</td>\n",
       "      <td>electric_bike</td>\n",
       "      <td>2021-01-21 22:35:54</td>\n",
       "      <td>2021-01-21 22:37:14</td>\n",
       "      <td>California Ave &amp; Cortez St</td>\n",
       "      <td>17660</td>\n",
       "      <td>NaN</td>\n",
       "      <td>NaN</td>\n",
       "      <td>41.900313</td>\n",
       "      <td>-87.696643</td>\n",
       "      <td>41.90</td>\n",
       "      <td>-87.70</td>\n",
       "      <td>member</td>\n",
       "    </tr>\n",
       "    <tr>\n",
       "      <th>3</th>\n",
       "      <td>4FA453A75AE377DB</td>\n",
       "      <td>electric_bike</td>\n",
       "      <td>2021-01-07 13:31:13</td>\n",
       "      <td>2021-01-07 13:42:55</td>\n",
       "      <td>California Ave &amp; Cortez St</td>\n",
       "      <td>17660</td>\n",
       "      <td>NaN</td>\n",
       "      <td>NaN</td>\n",
       "      <td>41.900399</td>\n",
       "      <td>-87.696662</td>\n",
       "      <td>41.92</td>\n",
       "      <td>-87.69</td>\n",
       "      <td>member</td>\n",
       "    </tr>\n",
       "    <tr>\n",
       "      <th>4</th>\n",
       "      <td>BE5E8EB4E7263A0B</td>\n",
       "      <td>electric_bike</td>\n",
       "      <td>2021-01-23 02:24:02</td>\n",
       "      <td>2021-01-23 02:24:45</td>\n",
       "      <td>California Ave &amp; Cortez St</td>\n",
       "      <td>17660</td>\n",
       "      <td>NaN</td>\n",
       "      <td>NaN</td>\n",
       "      <td>41.900326</td>\n",
       "      <td>-87.696697</td>\n",
       "      <td>41.90</td>\n",
       "      <td>-87.70</td>\n",
       "      <td>casual</td>\n",
       "    </tr>\n",
       "  </tbody>\n",
       "</table>\n",
       "</div>"
      ],
      "text/plain": [
       "            ride_id  rideable_type           started_at             ended_at  \\\n",
       "0  E19E6F1B8D4C42ED  electric_bike  2021-01-23 16:14:19  2021-01-23 16:24:44   \n",
       "1  DC88F20C2C55F27F  electric_bike  2021-01-27 18:43:08  2021-01-27 18:47:12   \n",
       "2  EC45C94683FE3F27  electric_bike  2021-01-21 22:35:54  2021-01-21 22:37:14   \n",
       "3  4FA453A75AE377DB  electric_bike  2021-01-07 13:31:13  2021-01-07 13:42:55   \n",
       "4  BE5E8EB4E7263A0B  electric_bike  2021-01-23 02:24:02  2021-01-23 02:24:45   \n",
       "\n",
       "           start_station_name start_station_id end_station_name  \\\n",
       "0  California Ave & Cortez St            17660              NaN   \n",
       "1  California Ave & Cortez St            17660              NaN   \n",
       "2  California Ave & Cortez St            17660              NaN   \n",
       "3  California Ave & Cortez St            17660              NaN   \n",
       "4  California Ave & Cortez St            17660              NaN   \n",
       "\n",
       "  end_station_id  start_lat  start_lng  end_lat  end_lng member_casual  \n",
       "0            NaN  41.900341 -87.696743    41.89   -87.72        member  \n",
       "1            NaN  41.900333 -87.696707    41.90   -87.69        member  \n",
       "2            NaN  41.900313 -87.696643    41.90   -87.70        member  \n",
       "3            NaN  41.900399 -87.696662    41.92   -87.69        member  \n",
       "4            NaN  41.900326 -87.696697    41.90   -87.70        casual  "
      ]
     },
     "execution_count": 5,
     "metadata": {},
     "output_type": "execute_result"
    }
   ],
   "source": [
    "all_trips.head()"
   ]
  },
  {
   "cell_type": "markdown",
   "id": "ec8e8536",
   "metadata": {
    "papermill": {
     "duration": 0.025004,
     "end_time": "2022-04-25T18:46:01.019007",
     "exception": false,
     "start_time": "2022-04-25T18:46:00.994003",
     "status": "completed"
    },
    "tags": []
   },
   "source": [
    "After analyzing the data, we can conclude the dataframe has the following:\n",
    "\n",
    "* 13 Columns\n",
    "* 5595063 rows\n",
    "* There are missing values in the end_station_name and end_station_id columns\n",
    "* There are wrong data types that need to be converted\n"
   ]
  },
  {
   "cell_type": "markdown",
   "id": "43bdc733",
   "metadata": {
    "papermill": {
     "duration": 0.028422,
     "end_time": "2022-04-25T18:46:01.074292",
     "exception": false,
     "start_time": "2022-04-25T18:46:01.045870",
     "status": "completed"
    },
    "tags": []
   },
   "source": [
    "**3. Process:**\n",
    "\n",
    "Clean and transform data, so its ready for Analysis"
   ]
  },
  {
   "cell_type": "markdown",
   "id": "fb5ab70b",
   "metadata": {
    "papermill": {
     "duration": 0.025123,
     "end_time": "2022-04-25T18:46:01.126850",
     "exception": false,
     "start_time": "2022-04-25T18:46:01.101727",
     "status": "completed"
    },
    "tags": []
   },
   "source": [
    "**Check for duplicate entries**"
   ]
  },
  {
   "cell_type": "code",
   "execution_count": 6,
   "id": "db421c50",
   "metadata": {
    "execution": {
     "iopub.execute_input": "2022-04-25T18:46:01.184637Z",
     "iopub.status.busy": "2022-04-25T18:46:01.183993Z",
     "iopub.status.idle": "2022-04-25T18:46:20.415796Z",
     "shell.execute_reply": "2022-04-25T18:46:20.415077Z",
     "shell.execute_reply.started": "2022-04-25T17:13:37.840923Z"
    },
    "papermill": {
     "duration": 19.260119,
     "end_time": "2022-04-25T18:46:20.415934",
     "exception": false,
     "start_time": "2022-04-25T18:46:01.155815",
     "status": "completed"
    },
    "tags": []
   },
   "outputs": [
    {
     "data": {
      "text/plain": [
       "0         False\n",
       "1         False\n",
       "2         False\n",
       "3         False\n",
       "4         False\n",
       "          ...  \n",
       "247535    False\n",
       "247536    False\n",
       "247537    False\n",
       "247538    False\n",
       "247539    False\n",
       "Length: 5595063, dtype: bool"
      ]
     },
     "execution_count": 6,
     "metadata": {},
     "output_type": "execute_result"
    }
   ],
   "source": [
    "all_trips.duplicated()"
   ]
  },
  {
   "cell_type": "markdown",
   "id": "5828e63c",
   "metadata": {
    "papermill": {
     "duration": 0.023348,
     "end_time": "2022-04-25T18:46:20.463688",
     "exception": false,
     "start_time": "2022-04-25T18:46:20.440340",
     "status": "completed"
    },
    "tags": []
   },
   "source": [
    "# Remove irrelevant data\n",
    "Some of the columns have missing values and are not useful for analysis\n",
    "\n"
   ]
  },
  {
   "cell_type": "code",
   "execution_count": 7,
   "id": "22ca446e",
   "metadata": {
    "execution": {
     "iopub.execute_input": "2022-04-25T18:46:21.245215Z",
     "iopub.status.busy": "2022-04-25T18:46:21.244540Z",
     "iopub.status.idle": "2022-04-25T18:46:22.681168Z",
     "shell.execute_reply": "2022-04-25T18:46:22.681735Z",
     "shell.execute_reply.started": "2022-04-25T17:13:59.473608Z"
    },
    "papermill": {
     "duration": 2.194626,
     "end_time": "2022-04-25T18:46:22.681915",
     "exception": false,
     "start_time": "2022-04-25T18:46:20.487289",
     "status": "completed"
    },
    "tags": []
   },
   "outputs": [],
   "source": [
    "all_trips = all_trips.drop(['start_station_name','start_station_id','end_station_name','end_station_id', 'start_lat', 'start_lng', 'end_lat', 'end_lng'], axis = 1)"
   ]
  },
  {
   "cell_type": "markdown",
   "id": "a7d593c9",
   "metadata": {
    "papermill": {
     "duration": 0.03078,
     "end_time": "2022-04-25T18:46:22.747893",
     "exception": false,
     "start_time": "2022-04-25T18:46:22.717113",
     "status": "completed"
    },
    "tags": []
   },
   "source": [
    "# Convert data types\n",
    "\n",
    "started_at and ended_at data type has to be converted to datatime"
   ]
  },
  {
   "cell_type": "code",
   "execution_count": 8,
   "id": "fce7ef32",
   "metadata": {
    "execution": {
     "iopub.execute_input": "2022-04-25T18:46:22.809038Z",
     "iopub.status.busy": "2022-04-25T18:46:22.808357Z",
     "iopub.status.idle": "2022-04-25T18:46:25.803363Z",
     "shell.execute_reply": "2022-04-25T18:46:25.802282Z",
     "shell.execute_reply.started": "2022-04-25T17:14:00.867535Z"
    },
    "papermill": {
     "duration": 3.025662,
     "end_time": "2022-04-25T18:46:25.803522",
     "exception": false,
     "start_time": "2022-04-25T18:46:22.777860",
     "status": "completed"
    },
    "tags": []
   },
   "outputs": [],
   "source": [
    "all_trips['started_at'] = pd.to_datetime(all_trips['started_at'])\n",
    "all_trips['ended_at'] = pd.to_datetime(all_trips['ended_at'])"
   ]
  },
  {
   "cell_type": "markdown",
   "id": "9033a4be",
   "metadata": {
    "papermill": {
     "duration": 0.023384,
     "end_time": "2022-04-25T18:46:25.851679",
     "exception": false,
     "start_time": "2022-04-25T18:46:25.828295",
     "status": "completed"
    },
    "tags": []
   },
   "source": [
    "We can add new columns like ride_length, day_of_week and month to further analyze the date"
   ]
  },
  {
   "cell_type": "code",
   "execution_count": 9,
   "id": "1f72bb2c",
   "metadata": {
    "execution": {
     "iopub.execute_input": "2022-04-25T18:46:25.902962Z",
     "iopub.status.busy": "2022-04-25T18:46:25.902351Z",
     "iopub.status.idle": "2022-04-25T18:46:29.463522Z",
     "shell.execute_reply": "2022-04-25T18:46:29.462805Z",
     "shell.execute_reply.started": "2022-04-25T17:14:05.452865Z"
    },
    "papermill": {
     "duration": 3.588195,
     "end_time": "2022-04-25T18:46:29.463668",
     "exception": false,
     "start_time": "2022-04-25T18:46:25.875473",
     "status": "completed"
    },
    "tags": []
   },
   "outputs": [],
   "source": [
    "all_trips['day'] = all_trips.started_at.dt.day_name()\n",
    "all_trips['month'] = all_trips.started_at.dt.month_name()\n",
    "all_trips['ride_length']= pd.to_timedelta((all_trips.ended_at - all_trips.started_at)).astype('timedelta64[m]')\n"
   ]
  },
  {
   "cell_type": "code",
   "execution_count": 10,
   "id": "268568f8",
   "metadata": {
    "execution": {
     "iopub.execute_input": "2022-04-25T18:46:29.518390Z",
     "iopub.status.busy": "2022-04-25T18:46:29.517366Z",
     "iopub.status.idle": "2022-04-25T18:46:30.148298Z",
     "shell.execute_reply": "2022-04-25T18:46:30.148891Z",
     "shell.execute_reply.started": "2022-04-25T17:14:09.091314Z"
    },
    "papermill": {
     "duration": 0.66094,
     "end_time": "2022-04-25T18:46:30.149075",
     "exception": false,
     "start_time": "2022-04-25T18:46:29.488135",
     "status": "completed"
    },
    "tags": []
   },
   "outputs": [],
   "source": [
    "days = ['Monday', 'Tuesday', 'Wednesday', 'Thursday', 'Friday', 'Saturday', 'Sunday']\n",
    "\n",
    "all_trips[\"day\"] = pd.Categorical(all_trips[\"day\"], categories = days)"
   ]
  },
  {
   "cell_type": "code",
   "execution_count": 11,
   "id": "f23667fe",
   "metadata": {
    "execution": {
     "iopub.execute_input": "2022-04-25T18:46:30.263739Z",
     "iopub.status.busy": "2022-04-25T18:46:30.262750Z",
     "iopub.status.idle": "2022-04-25T18:46:30.872375Z",
     "shell.execute_reply": "2022-04-25T18:46:30.871828Z",
     "shell.execute_reply.started": "2022-04-25T17:14:10.242000Z"
    },
    "papermill": {
     "duration": 0.699743,
     "end_time": "2022-04-25T18:46:30.872533",
     "exception": false,
     "start_time": "2022-04-25T18:46:30.172790",
     "status": "completed"
    },
    "tags": []
   },
   "outputs": [],
   "source": [
    "months = [\"January\", \"February\", \"March\", \"April\", \"May\", \"June\", \"July\", \"August\", \"September\", \"October\", \"November\", \"December\"]\n",
    "\n",
    "all_trips[\"month\"] = pd.Categorical(all_trips[\"month\"], categories = months)"
   ]
  },
  {
   "cell_type": "markdown",
   "id": "7b39692d",
   "metadata": {
    "papermill": {
     "duration": 0.02327,
     "end_time": "2022-04-25T18:46:30.920068",
     "exception": false,
     "start_time": "2022-04-25T18:46:30.896798",
     "status": "completed"
    },
    "tags": []
   },
   "source": [
    "Verify newly created columns"
   ]
  },
  {
   "cell_type": "code",
   "execution_count": 12,
   "id": "67f63314",
   "metadata": {
    "execution": {
     "iopub.execute_input": "2022-04-25T18:46:30.981863Z",
     "iopub.status.busy": "2022-04-25T18:46:30.980956Z",
     "iopub.status.idle": "2022-04-25T18:46:30.983908Z",
     "shell.execute_reply": "2022-04-25T18:46:30.984332Z",
     "shell.execute_reply.started": "2022-04-25T17:14:11.342671Z"
    },
    "papermill": {
     "duration": 0.040653,
     "end_time": "2022-04-25T18:46:30.984501",
     "exception": false,
     "start_time": "2022-04-25T18:46:30.943848",
     "status": "completed"
    },
    "tags": []
   },
   "outputs": [
    {
     "data": {
      "text/html": [
       "<div>\n",
       "<style scoped>\n",
       "    .dataframe tbody tr th:only-of-type {\n",
       "        vertical-align: middle;\n",
       "    }\n",
       "\n",
       "    .dataframe tbody tr th {\n",
       "        vertical-align: top;\n",
       "    }\n",
       "\n",
       "    .dataframe thead th {\n",
       "        text-align: right;\n",
       "    }\n",
       "</style>\n",
       "<table border=\"1\" class=\"dataframe\">\n",
       "  <thead>\n",
       "    <tr style=\"text-align: right;\">\n",
       "      <th></th>\n",
       "      <th>ride_id</th>\n",
       "      <th>rideable_type</th>\n",
       "      <th>started_at</th>\n",
       "      <th>ended_at</th>\n",
       "      <th>member_casual</th>\n",
       "      <th>day</th>\n",
       "      <th>month</th>\n",
       "      <th>ride_length</th>\n",
       "    </tr>\n",
       "  </thead>\n",
       "  <tbody>\n",
       "    <tr>\n",
       "      <th>0</th>\n",
       "      <td>E19E6F1B8D4C42ED</td>\n",
       "      <td>electric_bike</td>\n",
       "      <td>2021-01-23 16:14:19</td>\n",
       "      <td>2021-01-23 16:24:44</td>\n",
       "      <td>member</td>\n",
       "      <td>Saturday</td>\n",
       "      <td>January</td>\n",
       "      <td>10.0</td>\n",
       "    </tr>\n",
       "    <tr>\n",
       "      <th>1</th>\n",
       "      <td>DC88F20C2C55F27F</td>\n",
       "      <td>electric_bike</td>\n",
       "      <td>2021-01-27 18:43:08</td>\n",
       "      <td>2021-01-27 18:47:12</td>\n",
       "      <td>member</td>\n",
       "      <td>Wednesday</td>\n",
       "      <td>January</td>\n",
       "      <td>4.0</td>\n",
       "    </tr>\n",
       "    <tr>\n",
       "      <th>2</th>\n",
       "      <td>EC45C94683FE3F27</td>\n",
       "      <td>electric_bike</td>\n",
       "      <td>2021-01-21 22:35:54</td>\n",
       "      <td>2021-01-21 22:37:14</td>\n",
       "      <td>member</td>\n",
       "      <td>Thursday</td>\n",
       "      <td>January</td>\n",
       "      <td>1.0</td>\n",
       "    </tr>\n",
       "    <tr>\n",
       "      <th>3</th>\n",
       "      <td>4FA453A75AE377DB</td>\n",
       "      <td>electric_bike</td>\n",
       "      <td>2021-01-07 13:31:13</td>\n",
       "      <td>2021-01-07 13:42:55</td>\n",
       "      <td>member</td>\n",
       "      <td>Thursday</td>\n",
       "      <td>January</td>\n",
       "      <td>11.0</td>\n",
       "    </tr>\n",
       "    <tr>\n",
       "      <th>4</th>\n",
       "      <td>BE5E8EB4E7263A0B</td>\n",
       "      <td>electric_bike</td>\n",
       "      <td>2021-01-23 02:24:02</td>\n",
       "      <td>2021-01-23 02:24:45</td>\n",
       "      <td>casual</td>\n",
       "      <td>Saturday</td>\n",
       "      <td>January</td>\n",
       "      <td>0.0</td>\n",
       "    </tr>\n",
       "  </tbody>\n",
       "</table>\n",
       "</div>"
      ],
      "text/plain": [
       "            ride_id  rideable_type          started_at            ended_at  \\\n",
       "0  E19E6F1B8D4C42ED  electric_bike 2021-01-23 16:14:19 2021-01-23 16:24:44   \n",
       "1  DC88F20C2C55F27F  electric_bike 2021-01-27 18:43:08 2021-01-27 18:47:12   \n",
       "2  EC45C94683FE3F27  electric_bike 2021-01-21 22:35:54 2021-01-21 22:37:14   \n",
       "3  4FA453A75AE377DB  electric_bike 2021-01-07 13:31:13 2021-01-07 13:42:55   \n",
       "4  BE5E8EB4E7263A0B  electric_bike 2021-01-23 02:24:02 2021-01-23 02:24:45   \n",
       "\n",
       "  member_casual        day    month  ride_length  \n",
       "0        member   Saturday  January         10.0  \n",
       "1        member  Wednesday  January          4.0  \n",
       "2        member   Thursday  January          1.0  \n",
       "3        member   Thursday  January         11.0  \n",
       "4        casual   Saturday  January          0.0  "
      ]
     },
     "execution_count": 12,
     "metadata": {},
     "output_type": "execute_result"
    }
   ],
   "source": [
    "all_trips.head()"
   ]
  },
  {
   "cell_type": "markdown",
   "id": "6f0351c2",
   "metadata": {
    "papermill": {
     "duration": 0.023742,
     "end_time": "2022-04-25T18:46:31.032395",
     "exception": false,
     "start_time": "2022-04-25T18:46:31.008653",
     "status": "completed"
    },
    "tags": []
   },
   "source": [
    "**Save the cleaned data to a new .csv file**"
   ]
  },
  {
   "cell_type": "code",
   "execution_count": 13,
   "id": "1ffb1650",
   "metadata": {
    "execution": {
     "iopub.execute_input": "2022-04-25T18:46:31.087645Z",
     "iopub.status.busy": "2022-04-25T18:46:31.085823Z",
     "iopub.status.idle": "2022-04-25T18:47:05.305337Z",
     "shell.execute_reply": "2022-04-25T18:47:05.304711Z",
     "shell.execute_reply.started": "2022-04-25T17:14:11.359120Z"
    },
    "papermill": {
     "duration": 34.247633,
     "end_time": "2022-04-25T18:47:05.305494",
     "exception": false,
     "start_time": "2022-04-25T18:46:31.057861",
     "status": "completed"
    },
    "tags": []
   },
   "outputs": [],
   "source": [
    "all_trips.to_csv('all_trips_cleaned.csv', index = False)"
   ]
  },
  {
   "cell_type": "markdown",
   "id": "1a99fa46",
   "metadata": {
    "papermill": {
     "duration": 0.026406,
     "end_time": "2022-04-25T18:47:05.356194",
     "exception": false,
     "start_time": "2022-04-25T18:47:05.329788",
     "status": "completed"
    },
    "tags": []
   },
   "source": [
    "**4. Analyze Data:**"
   ]
  },
  {
   "cell_type": "markdown",
   "id": "89026c51",
   "metadata": {
    "papermill": {
     "duration": 0.024543,
     "end_time": "2022-04-25T18:47:05.405306",
     "exception": false,
     "start_time": "2022-04-25T18:47:05.380763",
     "status": "completed"
    },
    "tags": []
   },
   "source": [
    "Analyze ride type by User"
   ]
  },
  {
   "cell_type": "code",
   "execution_count": 14,
   "id": "ad2ba0bf",
   "metadata": {
    "execution": {
     "iopub.execute_input": "2022-04-25T18:47:05.712504Z",
     "iopub.status.busy": "2022-04-25T18:47:05.561023Z",
     "iopub.status.idle": "2022-04-25T18:47:07.012833Z",
     "shell.execute_reply": "2022-04-25T18:47:07.012280Z",
     "shell.execute_reply.started": "2022-04-25T17:14:56.038227Z"
    },
    "papermill": {
     "duration": 1.583199,
     "end_time": "2022-04-25T18:47:07.012976",
     "exception": false,
     "start_time": "2022-04-25T18:47:05.429777",
     "status": "completed"
    },
    "tags": []
   },
   "outputs": [
    {
     "data": {
      "text/html": [
       "<div>\n",
       "<style scoped>\n",
       "    .dataframe tbody tr th:only-of-type {\n",
       "        vertical-align: middle;\n",
       "    }\n",
       "\n",
       "    .dataframe tbody tr th {\n",
       "        vertical-align: top;\n",
       "    }\n",
       "\n",
       "    .dataframe thead th {\n",
       "        text-align: right;\n",
       "    }\n",
       "</style>\n",
       "<table border=\"1\" class=\"dataframe\">\n",
       "  <thead>\n",
       "    <tr style=\"text-align: right;\">\n",
       "      <th></th>\n",
       "      <th></th>\n",
       "      <th>len</th>\n",
       "      <th>sum</th>\n",
       "      <th>mean</th>\n",
       "      <th>median</th>\n",
       "      <th>amax</th>\n",
       "      <th>amin</th>\n",
       "    </tr>\n",
       "    <tr>\n",
       "      <th>member_casual</th>\n",
       "      <th>rideable_type</th>\n",
       "      <th></th>\n",
       "      <th></th>\n",
       "      <th></th>\n",
       "      <th></th>\n",
       "      <th></th>\n",
       "      <th></th>\n",
       "    </tr>\n",
       "  </thead>\n",
       "  <tbody>\n",
       "    <tr>\n",
       "      <th rowspan=\"3\" valign=\"top\">casual</th>\n",
       "      <th>classic_bike</th>\n",
       "      <td>1266657</td>\n",
       "      <td>36021794.0</td>\n",
       "      <td>28.438475</td>\n",
       "      <td>16.0</td>\n",
       "      <td>1559.0</td>\n",
       "      <td>-54.0</td>\n",
       "    </tr>\n",
       "    <tr>\n",
       "      <th>docked_bike</th>\n",
       "      <td>312342</td>\n",
       "      <td>25300603.0</td>\n",
       "      <td>81.002885</td>\n",
       "      <td>28.0</td>\n",
       "      <td>55944.0</td>\n",
       "      <td>-41.0</td>\n",
       "    </tr>\n",
       "    <tr>\n",
       "      <th>electric_bike</th>\n",
       "      <td>950006</td>\n",
       "      <td>18369545.0</td>\n",
       "      <td>19.336241</td>\n",
       "      <td>13.0</td>\n",
       "      <td>487.0</td>\n",
       "      <td>-59.0</td>\n",
       "    </tr>\n",
       "    <tr>\n",
       "      <th rowspan=\"3\" valign=\"top\">member</th>\n",
       "      <th>classic_bike</th>\n",
       "      <td>1984371</td>\n",
       "      <td>27099708.0</td>\n",
       "      <td>13.656573</td>\n",
       "      <td>9.0</td>\n",
       "      <td>1559.0</td>\n",
       "      <td>-55.0</td>\n",
       "    </tr>\n",
       "    <tr>\n",
       "      <th>docked_bike</th>\n",
       "      <td>1</td>\n",
       "      <td>2.0</td>\n",
       "      <td>2.000000</td>\n",
       "      <td>2.0</td>\n",
       "      <td>2.0</td>\n",
       "      <td>2.0</td>\n",
       "    </tr>\n",
       "    <tr>\n",
       "      <th>electric_bike</th>\n",
       "      <td>1081686</td>\n",
       "      <td>13198976.0</td>\n",
       "      <td>12.202225</td>\n",
       "      <td>8.0</td>\n",
       "      <td>480.0</td>\n",
       "      <td>-54.0</td>\n",
       "    </tr>\n",
       "  </tbody>\n",
       "</table>\n",
       "</div>"
      ],
      "text/plain": [
       "                                 len         sum       mean  median     amax  \\\n",
       "member_casual rideable_type                                                    \n",
       "casual        classic_bike   1266657  36021794.0  28.438475    16.0   1559.0   \n",
       "              docked_bike     312342  25300603.0  81.002885    28.0  55944.0   \n",
       "              electric_bike   950006  18369545.0  19.336241    13.0    487.0   \n",
       "member        classic_bike   1984371  27099708.0  13.656573     9.0   1559.0   \n",
       "              docked_bike          1         2.0   2.000000     2.0      2.0   \n",
       "              electric_bike  1081686  13198976.0  12.202225     8.0    480.0   \n",
       "\n",
       "                             amin  \n",
       "member_casual rideable_type        \n",
       "casual        classic_bike  -54.0  \n",
       "              docked_bike   -41.0  \n",
       "              electric_bike -59.0  \n",
       "member        classic_bike  -55.0  \n",
       "              docked_bike     2.0  \n",
       "              electric_bike -54.0  "
      ]
     },
     "execution_count": 14,
     "metadata": {},
     "output_type": "execute_result"
    }
   ],
   "source": [
    "all_trips.groupby([\"member_casual\",\"rideable_type\"]).ride_length.agg([len,np.sum,np.mean,np.median,np.max,np.min])"
   ]
  },
  {
   "cell_type": "markdown",
   "id": "6a4b5cf4",
   "metadata": {
    "papermill": {
     "duration": 0.026078,
     "end_time": "2022-04-25T18:47:07.065013",
     "exception": false,
     "start_time": "2022-04-25T18:47:07.038935",
     "status": "completed"
    },
    "tags": []
   },
   "source": [
    "Analyze Ride length by Day of the week"
   ]
  },
  {
   "cell_type": "code",
   "execution_count": 15,
   "id": "3f1cd575",
   "metadata": {
    "execution": {
     "iopub.execute_input": "2022-04-25T18:47:07.375070Z",
     "iopub.status.busy": "2022-04-25T18:47:07.226009Z",
     "iopub.status.idle": "2022-04-25T18:47:08.267541Z",
     "shell.execute_reply": "2022-04-25T18:47:08.266907Z",
     "shell.execute_reply.started": "2022-04-25T17:14:57.963760Z"
    },
    "papermill": {
     "duration": 1.174702,
     "end_time": "2022-04-25T18:47:08.267679",
     "exception": false,
     "start_time": "2022-04-25T18:47:07.092977",
     "status": "completed"
    },
    "tags": []
   },
   "outputs": [
    {
     "data": {
      "text/html": [
       "<div>\n",
       "<style scoped>\n",
       "    .dataframe tbody tr th:only-of-type {\n",
       "        vertical-align: middle;\n",
       "    }\n",
       "\n",
       "    .dataframe tbody tr th {\n",
       "        vertical-align: top;\n",
       "    }\n",
       "\n",
       "    .dataframe thead th {\n",
       "        text-align: right;\n",
       "    }\n",
       "</style>\n",
       "<table border=\"1\" class=\"dataframe\">\n",
       "  <thead>\n",
       "    <tr style=\"text-align: right;\">\n",
       "      <th></th>\n",
       "      <th></th>\n",
       "      <th>len</th>\n",
       "      <th>sum</th>\n",
       "      <th>mean</th>\n",
       "      <th>median</th>\n",
       "      <th>amax</th>\n",
       "      <th>amin</th>\n",
       "    </tr>\n",
       "    <tr>\n",
       "      <th>member_casual</th>\n",
       "      <th>day</th>\n",
       "      <th></th>\n",
       "      <th></th>\n",
       "      <th></th>\n",
       "      <th></th>\n",
       "      <th></th>\n",
       "      <th></th>\n",
       "    </tr>\n",
       "  </thead>\n",
       "  <tbody>\n",
       "    <tr>\n",
       "      <th rowspan=\"7\" valign=\"top\">casual</th>\n",
       "      <th>Monday</th>\n",
       "      <td>286376</td>\n",
       "      <td>8988067.0</td>\n",
       "      <td>31.385546</td>\n",
       "      <td>15.0</td>\n",
       "      <td>31681.0</td>\n",
       "      <td>-2.0</td>\n",
       "    </tr>\n",
       "    <tr>\n",
       "      <th>Tuesday</th>\n",
       "      <td>274392</td>\n",
       "      <td>7540888.0</td>\n",
       "      <td>27.482171</td>\n",
       "      <td>14.0</td>\n",
       "      <td>38922.0</td>\n",
       "      <td>-4.0</td>\n",
       "    </tr>\n",
       "    <tr>\n",
       "      <th>Wednesday</th>\n",
       "      <td>278950</td>\n",
       "      <td>7578202.0</td>\n",
       "      <td>27.166883</td>\n",
       "      <td>13.0</td>\n",
       "      <td>38963.0</td>\n",
       "      <td>-1.0</td>\n",
       "    </tr>\n",
       "    <tr>\n",
       "      <th>Thursday</th>\n",
       "      <td>286064</td>\n",
       "      <td>7784536.0</td>\n",
       "      <td>27.212568</td>\n",
       "      <td>13.0</td>\n",
       "      <td>49107.0</td>\n",
       "      <td>0.0</td>\n",
       "    </tr>\n",
       "    <tr>\n",
       "      <th>Friday</th>\n",
       "      <td>364080</td>\n",
       "      <td>10870937.0</td>\n",
       "      <td>29.858649</td>\n",
       "      <td>14.0</td>\n",
       "      <td>55691.0</td>\n",
       "      <td>-2.0</td>\n",
       "    </tr>\n",
       "    <tr>\n",
       "      <th>Saturday</th>\n",
       "      <td>558000</td>\n",
       "      <td>19092756.0</td>\n",
       "      <td>34.216409</td>\n",
       "      <td>17.0</td>\n",
       "      <td>55944.0</td>\n",
       "      <td>-1.0</td>\n",
       "    </tr>\n",
       "    <tr>\n",
       "      <th>Sunday</th>\n",
       "      <td>481143</td>\n",
       "      <td>17836556.0</td>\n",
       "      <td>37.071216</td>\n",
       "      <td>18.0</td>\n",
       "      <td>53921.0</td>\n",
       "      <td>-59.0</td>\n",
       "    </tr>\n",
       "    <tr>\n",
       "      <th rowspan=\"7\" valign=\"top\">member</th>\n",
       "      <th>Monday</th>\n",
       "      <td>416212</td>\n",
       "      <td>5309910.0</td>\n",
       "      <td>12.757705</td>\n",
       "      <td>9.0</td>\n",
       "      <td>1499.0</td>\n",
       "      <td>-1.0</td>\n",
       "    </tr>\n",
       "    <tr>\n",
       "      <th>Tuesday</th>\n",
       "      <td>465513</td>\n",
       "      <td>5724831.0</td>\n",
       "      <td>12.297897</td>\n",
       "      <td>9.0</td>\n",
       "      <td>1499.0</td>\n",
       "      <td>-3.0</td>\n",
       "    </tr>\n",
       "    <tr>\n",
       "      <th>Wednesday</th>\n",
       "      <td>477192</td>\n",
       "      <td>5883583.0</td>\n",
       "      <td>12.329593</td>\n",
       "      <td>9.0</td>\n",
       "      <td>1499.0</td>\n",
       "      <td>-8.0</td>\n",
       "    </tr>\n",
       "    <tr>\n",
       "      <th>Thursday</th>\n",
       "      <td>451524</td>\n",
       "      <td>5547797.0</td>\n",
       "      <td>12.286826</td>\n",
       "      <td>9.0</td>\n",
       "      <td>1499.0</td>\n",
       "      <td>-1.0</td>\n",
       "    </tr>\n",
       "    <tr>\n",
       "      <th>Friday</th>\n",
       "      <td>446428</td>\n",
       "      <td>5730098.0</td>\n",
       "      <td>12.835436</td>\n",
       "      <td>9.0</td>\n",
       "      <td>1499.0</td>\n",
       "      <td>-3.0</td>\n",
       "    </tr>\n",
       "    <tr>\n",
       "      <th>Saturday</th>\n",
       "      <td>433047</td>\n",
       "      <td>6398346.0</td>\n",
       "      <td>14.775177</td>\n",
       "      <td>10.0</td>\n",
       "      <td>1559.0</td>\n",
       "      <td>-2.0</td>\n",
       "    </tr>\n",
       "    <tr>\n",
       "      <th>Sunday</th>\n",
       "      <td>376142</td>\n",
       "      <td>5704121.0</td>\n",
       "      <td>15.164807</td>\n",
       "      <td>10.0</td>\n",
       "      <td>1499.0</td>\n",
       "      <td>-55.0</td>\n",
       "    </tr>\n",
       "  </tbody>\n",
       "</table>\n",
       "</div>"
      ],
      "text/plain": [
       "                            len         sum       mean  median     amax  amin\n",
       "member_casual day                                                            \n",
       "casual        Monday     286376   8988067.0  31.385546    15.0  31681.0  -2.0\n",
       "              Tuesday    274392   7540888.0  27.482171    14.0  38922.0  -4.0\n",
       "              Wednesday  278950   7578202.0  27.166883    13.0  38963.0  -1.0\n",
       "              Thursday   286064   7784536.0  27.212568    13.0  49107.0   0.0\n",
       "              Friday     364080  10870937.0  29.858649    14.0  55691.0  -2.0\n",
       "              Saturday   558000  19092756.0  34.216409    17.0  55944.0  -1.0\n",
       "              Sunday     481143  17836556.0  37.071216    18.0  53921.0 -59.0\n",
       "member        Monday     416212   5309910.0  12.757705     9.0   1499.0  -1.0\n",
       "              Tuesday    465513   5724831.0  12.297897     9.0   1499.0  -3.0\n",
       "              Wednesday  477192   5883583.0  12.329593     9.0   1499.0  -8.0\n",
       "              Thursday   451524   5547797.0  12.286826     9.0   1499.0  -1.0\n",
       "              Friday     446428   5730098.0  12.835436     9.0   1499.0  -3.0\n",
       "              Saturday   433047   6398346.0  14.775177    10.0   1559.0  -2.0\n",
       "              Sunday     376142   5704121.0  15.164807    10.0   1499.0 -55.0"
      ]
     },
     "execution_count": 15,
     "metadata": {},
     "output_type": "execute_result"
    }
   ],
   "source": [
    "all_trips.groupby([\"member_casual\",\"day\"]).ride_length.agg([len,np.sum,np.mean,np.median,np.max,np.min])"
   ]
  },
  {
   "cell_type": "markdown",
   "id": "fcfc9cfa",
   "metadata": {
    "papermill": {
     "duration": 0.025038,
     "end_time": "2022-04-25T18:47:08.318776",
     "exception": false,
     "start_time": "2022-04-25T18:47:08.293738",
     "status": "completed"
    },
    "tags": []
   },
   "source": [
    "**5. Share:**"
   ]
  },
  {
   "cell_type": "markdown",
   "id": "aa225cff",
   "metadata": {
    "papermill": {
     "duration": 0.025145,
     "end_time": "2022-04-25T18:47:08.370260",
     "exception": false,
     "start_time": "2022-04-25T18:47:08.345115",
     "status": "completed"
    },
    "tags": []
   },
   "source": [
    "**Visualizations**"
   ]
  },
  {
   "cell_type": "markdown",
   "id": "c3852c65",
   "metadata": {
    "papermill": {
     "duration": 0.025272,
     "end_time": "2022-04-25T18:47:08.421467",
     "exception": false,
     "start_time": "2022-04-25T18:47:08.396195",
     "status": "completed"
    },
    "tags": []
   },
   "source": [
    "Distribution by User type"
   ]
  },
  {
   "cell_type": "code",
   "execution_count": 16,
   "id": "57632f42",
   "metadata": {
    "execution": {
     "iopub.execute_input": "2022-04-25T18:47:08.843997Z",
     "iopub.status.busy": "2022-04-25T18:47:08.843300Z",
     "iopub.status.idle": "2022-04-25T18:47:08.954387Z",
     "shell.execute_reply": "2022-04-25T18:47:08.954957Z",
     "shell.execute_reply.started": "2022-04-25T17:14:59.001766Z"
    },
    "papermill": {
     "duration": 0.504991,
     "end_time": "2022-04-25T18:47:08.955189",
     "exception": false,
     "start_time": "2022-04-25T18:47:08.450198",
     "status": "completed"
    },
    "tags": []
   },
   "outputs": [
    {
     "data": {
      "image/png": "[encoded data removed]",
      "text/plain": [
       "<Figure size 432x288 with 1 Axes>"
      ]
     },
     "metadata": {},
     "output_type": "display_data"
    }
   ],
   "source": [
    "plt.pie(all_trips[\"member_casual\"].value_counts(ascending = True), autopct=\"%.1f%%\", labels = ['casual', 'member'], labeldistance = 1.2, pctdistance = 0.45)\n",
    "plt.show()"
   ]
  },
  {
   "cell_type": "markdown",
   "id": "f2350378",
   "metadata": {
    "papermill": {
     "duration": 0.027606,
     "end_time": "2022-04-25T18:47:09.012525",
     "exception": false,
     "start_time": "2022-04-25T18:47:08.984919",
     "status": "completed"
    },
    "tags": []
   },
   "source": [
    "Total Rides by User type"
   ]
  },
  {
   "cell_type": "code",
   "execution_count": 17,
   "id": "7d3d8c12",
   "metadata": {
    "execution": {
     "iopub.execute_input": "2022-04-25T18:47:09.075125Z",
     "iopub.status.busy": "2022-04-25T18:47:09.074419Z",
     "iopub.status.idle": "2022-04-25T18:47:12.138133Z",
     "shell.execute_reply": "2022-04-25T18:47:12.137472Z",
     "shell.execute_reply.started": "2022-04-25T17:14:59.400505Z"
    },
    "papermill": {
     "duration": 3.099757,
     "end_time": "2022-04-25T18:47:12.138282",
     "exception": false,
     "start_time": "2022-04-25T18:47:09.038525",
     "status": "completed"
    },
    "tags": []
   },
   "outputs": [
    {
     "data": {
      "image/png": "[encoded data removed]",
      "text/plain": [
       "<Figure size 432x288 with 1 Axes>"
      ]
     },
     "metadata": {
      "needs_background": "light"
     },
     "output_type": "display_data"
    }
   ],
   "source": [
    "data_ra = all_trips.pivot_table(index = 'rideable_type', values = 'ride_length', columns = 'member_casual',aggfunc = [len, np.mean])\n",
    "\n",
    "ax = data_ra[\"len\"].plot.bar()\n",
    "\n",
    "for i, number in enumerate(data_ra['len']['casual']):\n",
    "    plt.text(x=i-0.25, y= number + 1, s=round(number,2))\n",
    "for i, number in enumerate(data_ra['len']['member']):\n",
    "    plt.text(x=i, y= number + 1, s=round(number,2))\n",
    "\n",
    "ax.yaxis.set_major_formatter(ticker.EngFormatter())\n",
    "ax.set(ylabel = \"Total number of Rides \", title = \"Total number of Rides by User\")\n",
    "\n",
    "plt.show()"
   ]
  },
  {
   "cell_type": "markdown",
   "id": "a9119291",
   "metadata": {
    "papermill": {
     "duration": 0.027316,
     "end_time": "2022-04-25T18:47:12.193190",
     "exception": false,
     "start_time": "2022-04-25T18:47:12.165874",
     "status": "completed"
    },
    "tags": []
   },
   "source": [
    "\n",
    "Average ride length by User type"
   ]
  },
  {
   "cell_type": "code",
   "execution_count": 18,
   "id": "8251b575",
   "metadata": {
    "execution": {
     "iopub.execute_input": "2022-04-25T18:47:12.614752Z",
     "iopub.status.busy": "2022-04-25T18:47:12.469932Z",
     "iopub.status.idle": "2022-04-25T18:47:15.076185Z",
     "shell.execute_reply": "2022-04-25T18:47:15.076611Z",
     "shell.execute_reply.started": "2022-04-25T17:15:02.773464Z"
    },
    "papermill": {
     "duration": 2.85637,
     "end_time": "2022-04-25T18:47:15.076791",
     "exception": false,
     "start_time": "2022-04-25T18:47:12.220421",
     "status": "completed"
    },
    "tags": []
   },
   "outputs": [
    {
     "data": {
      "image/png": "[encoded data removed]",
      "text/plain": [
       "<Figure size 432x288 with 1 Axes>"
      ]
     },
     "metadata": {
      "needs_background": "light"
     },
     "output_type": "display_data"
    }
   ],
   "source": [
    "data_ra = all_trips.pivot_table(index = 'rideable_type', values = 'ride_length', columns = 'member_casual',aggfunc = [len, np.mean])\n",
    "\n",
    "ax = data_ra[\"mean\"].plot.bar()\n",
    "\n",
    "for i, number in enumerate(data_ra['mean']['casual']):\n",
    "    plt.text(x=i-0.25, y= number + 1, s=round(number,2))\n",
    "for i, number in enumerate(data_ra['mean']['member']):\n",
    "    plt.text(x=i, y= number + 1, s=round(number,2))\n",
    "\n",
    "ax.yaxis.set_major_formatter(ticker.EngFormatter())\n",
    "ax.set(ylabel = \"Avg. Ride Length (Mins)\", title = \"Avg. Ride Length of Ride length by User\")\n",
    "\n",
    "plt.show()"
   ]
  },
  {
   "cell_type": "markdown",
   "id": "307c6182",
   "metadata": {
    "papermill": {
     "duration": 0.027246,
     "end_time": "2022-04-25T18:47:15.131822",
     "exception": false,
     "start_time": "2022-04-25T18:47:15.104576",
     "status": "completed"
    },
    "tags": []
   },
   "source": [
    "Total Rides by Month"
   ]
  },
  {
   "cell_type": "code",
   "execution_count": 19,
   "id": "9102b25b",
   "metadata": {
    "execution": {
     "iopub.execute_input": "2022-04-25T18:47:15.191528Z",
     "iopub.status.busy": "2022-04-25T18:47:15.190915Z",
     "iopub.status.idle": "2022-04-25T18:47:16.210081Z",
     "shell.execute_reply": "2022-04-25T18:47:16.210625Z",
     "shell.execute_reply.started": "2022-04-25T17:15:05.541291Z"
    },
    "papermill": {
     "duration": 1.051046,
     "end_time": "2022-04-25T18:47:16.210793",
     "exception": false,
     "start_time": "2022-04-25T18:47:15.159747",
     "status": "completed"
    },
    "tags": []
   },
   "outputs": [
    {
     "data": {
      "image/png": "[encoded data removed]",
      "text/plain": [
       "<Figure size 1080x576 with 2 Axes>"
      ]
     },
     "metadata": {
      "needs_background": "light"
     },
     "output_type": "display_data"
    }
   ],
   "source": [
    "month_bar = all_trips.groupby([\"member_casual\",\"month\"])[\"ride_length\"].count()\n",
    "\n",
    "fig,ax = plt.subplots(1,2, figsize = (15,8))\n",
    "\n",
    "ax1 = month_bar[\"casual\"].plot.bar(ax =ax[0], title = 'casual', ylabel = 'Total number of Rides')\n",
    "ax1.yaxis.set_major_formatter(ticker.EngFormatter())\n",
    "\n",
    "ax2 = month_bar[\"member\"].plot.bar(ax =ax[1], title = 'member', color= '#00BFC4', ylabel = 'Total number of Rides')\n",
    "ax2.yaxis.set_major_formatter(ticker.EngFormatter())\n",
    "\n",
    "\n",
    "fig.suptitle('Distribution of Total number of Rides by Month')\n",
    "\n",
    "\n",
    "plt.show()"
   ]
  },
  {
   "cell_type": "markdown",
   "id": "ca776df5",
   "metadata": {
    "papermill": {
     "duration": 0.030299,
     "end_time": "2022-04-25T18:47:16.270784",
     "exception": false,
     "start_time": "2022-04-25T18:47:16.240485",
     "status": "completed"
    },
    "tags": []
   },
   "source": [
    "Total Rides by Day"
   ]
  },
  {
   "cell_type": "code",
   "execution_count": 20,
   "id": "3a9b63c2",
   "metadata": {
    "execution": {
     "iopub.execute_input": "2022-04-25T18:47:16.332216Z",
     "iopub.status.busy": "2022-04-25T18:47:16.331606Z",
     "iopub.status.idle": "2022-04-25T18:47:17.516404Z",
     "shell.execute_reply": "2022-04-25T18:47:17.515776Z",
     "shell.execute_reply.started": "2022-04-25T17:15:06.575079Z"
    },
    "papermill": {
     "duration": 1.216193,
     "end_time": "2022-04-25T18:47:17.516549",
     "exception": false,
     "start_time": "2022-04-25T18:47:16.300356",
     "status": "completed"
    },
    "tags": []
   },
   "outputs": [
    {
     "data": {
      "image/png": "[encoded data removed]",
      "text/plain": [
       "<Figure size 1080x576 with 2 Axes>"
      ]
     },
     "metadata": {
      "needs_background": "light"
     },
     "output_type": "display_data"
    }
   ],
   "source": [
    "day_bar = all_trips.groupby([\"member_casual\",\"day\"])[\"ride_length\"].agg([len, np.mean])\n",
    "\n",
    "fig,ax = plt.subplots(1,2, figsize = (15,8))\n",
    "\n",
    "ax1 = day_bar.loc[\"casual\", \"len\"].plot.bar(ax =ax[0], title = 'casual', ylabel = 'Total number of Rides')\n",
    "ax1.yaxis.set_major_formatter(ticker.EngFormatter())\n",
    "\n",
    "ax2 = day_bar.loc[\"member\",\"len\"].plot.bar(ax =ax[1], title = 'member' , color= '#00BFC4', ylabel = 'Total number of Rides')\n",
    "ax2.yaxis.set_major_formatter(ticker.EngFormatter())\n",
    "\n",
    "fig.suptitle('Distribution of Total number of Rides by Day')\n",
    "\n",
    "plt.show()"
   ]
  },
  {
   "cell_type": "markdown",
   "id": "9fe89153",
   "metadata": {
    "papermill": {
     "duration": 0.030824,
     "end_time": "2022-04-25T18:47:17.579063",
     "exception": false,
     "start_time": "2022-04-25T18:47:17.548239",
     "status": "completed"
    },
    "tags": []
   },
   "source": [
    "**6. Act:**\n",
    "\n",
    "Conclusions:\n",
    "\n",
    "Casual users bike for longer durations on each trip than annual members. Suggests annual members use the bikes for relatively short commutes to work while casual users use it for long rides Ex: tourists using it for sightseeing.\n",
    "\n",
    "Casual users bike more on the weekends. Indicative of tourists/visitors and users using for leisure. Annual members bike more on the weekdays. Indicative of work commuters.\n",
    "\n",
    "There is a steep decline in usage amongst casual users towards the end of the year (Nov-Dec) compared to annual members who have fair usage. This could be attributed to tourists not travelling into Chicago during peak winter.\n",
    "\n",
    "Classis bikes are the most popular choice for both type of users. However, casual users spend more time on average on the docked bikes while this is the least popular bike type amongst annual members.\n",
    "\n",
    "\n",
    "\n",
    "\n"
   ]
  },
  {
   "cell_type": "markdown",
   "id": "1f953f2d",
   "metadata": {
    "papermill": {
     "duration": 0.03003,
     "end_time": "2022-04-25T18:47:17.638962",
     "exception": false,
     "start_time": "2022-04-25T18:47:17.608932",
     "status": "completed"
    },
    "tags": []
   },
   "source": [
    "Recommendations:\n",
    "\n",
    "Promotions during the weekend/holidays: Casual users are most active on the weekends. Attract attention of casual riders by focusing marketing efforts heavily during the weekends and lighter during the weekdays. Trial promos can be offered.\n",
    "\n",
    "Make the Annual membership perks more attractive by offering rewards through a loyalty program. Tie up with companies to offer incentives and Introduce referral programs.\n",
    "  \n",
    "Focus marketing efforts to show statistics of how it works out cheaper to use the bikes during the weekends with the annual membership. After each ride, the app could show how much money could be saved by save by switching to an annual membership. Have the option to adjust the diff by signing up before the next ride."
   ]
  }
 ],
 "metadata": {
  "kernelspec": {
   "display_name": "Python 3",
   "language": "python",
   "name": "python3"
  },
  "language_info": {
   "codemirror_mode": {
    "name": "ipython",
    "version": 3
   },
   "file_extension": ".py",
   "mimetype": "text/x-python",
   "name": "python",
   "nbconvert_exporter": "python",
   "pygments_lexer": "ipython3",
   "version": "3.7.10"
  },
  "papermill": {
   "default_parameters": {},
   "duration": 119.966632,
   "end_time": "2022-04-25T18:47:19.082739",
   "environment_variables": {},
   "exception": null,
   "input_path": "__notebook__.ipynb",
   "output_path": "__notebook__.ipynb",
   "parameters": {},
   "start_time": "2022-04-25T18:45:19.116107",
   "version": "2.3.3"
  }
 },
 "nbformat": 4,
 "nbformat_minor": 5
}
